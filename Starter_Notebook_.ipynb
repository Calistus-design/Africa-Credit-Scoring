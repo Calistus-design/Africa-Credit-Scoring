{
  "cells": [
    {
      "cell_type": "markdown",
      "metadata": {
        "id": "d5GHuQ1ptcB1"
      },
      "source": [
        "# Africa Credit Challenge\n",
        "\n",
        "The goals of this `starter notebook` are:\n",
        "\n",
        "1. How to load data into a `Pandas` dataframe\n",
        "\n",
        "2. How to `train` a basic machine learning model\n",
        "\n",
        "3. How to `evaluate` the model\n",
        "\n",
        "4. How to `save` your __submission__ following the required format.\n",
        "\n",
        "<font color=\"red\"><b>Note: This is just a starter notebook. It is by no means an ideal solution.</b></font>"
      ]
    },
    {
      "cell_type": "code",
      "execution_count": 1,
      "metadata": {
        "id": "rn5lSuA7pZNS"
      },
      "outputs": [],
      "source": [
        "# Import libraries\n",
        "import pandas as pd\n",
        "import numpy as np\n",
        "import matplotlib.pyplot as plt\n",
        "import seaborn as sns\n",
        "from sklearn.preprocessing import StandardScaler, LabelEncoder\n",
        "from sklearn.linear_model import LogisticRegression\n",
        "from sklearn.metrics import classification_report, confusion_matrix\n",
        "from sklearn.metrics import ConfusionMatrixDisplay\n",
        "from sklearn.metrics import f1_score, roc_auc_score\n",
        "from sklearn.compose import ColumnTransformer\n",
        "#from sklearn.preprocessing import StandardScaler\n",
        "#from sklearn.ensemble import RandomForestClassifier\n",
        "import warnings\n",
        "warnings.filterwarnings('ignore')"
      ]
    },
    {
      "cell_type": "markdown",
      "metadata": {
        "id": "4XXM1TMkqieB"
      },
      "source": [
        "## Load and Inspect the data"
      ]
    },
    {
      "cell_type": "code",
      "execution_count": null,
      "metadata": {
        "colab": {
          "base_uri": "https://localhost:8080/",
          "height": 660
        },
        "id": "oilPceniqg3H",
        "outputId": "bd1f829a-8e7f-4dd9-da09-257b365205cb"
      },
      "outputs": [
        {
          "data": {
            "text/plain": [
              "'Train'"
            ]
          },
          "metadata": {},
          "output_type": "display_data"
        },
        {
          "data": {
            "text/html": [
              "<div>\n",
              "<style scoped>\n",
              "    .dataframe tbody tr th:only-of-type {\n",
              "        vertical-align: middle;\n",
              "    }\n",
              "\n",
              "    .dataframe tbody tr th {\n",
              "        vertical-align: top;\n",
              "    }\n",
              "\n",
              "    .dataframe thead th {\n",
              "        text-align: right;\n",
              "    }\n",
              "</style>\n",
              "<table border=\"1\" class=\"dataframe\">\n",
              "  <thead>\n",
              "    <tr style=\"text-align: right;\">\n",
              "      <th></th>\n",
              "      <th>ID</th>\n",
              "      <th>customer_id</th>\n",
              "      <th>country_id</th>\n",
              "      <th>tbl_loan_id</th>\n",
              "      <th>lender_id</th>\n",
              "      <th>loan_type</th>\n",
              "      <th>Total_Amount</th>\n",
              "      <th>Total_Amount_to_Repay</th>\n",
              "      <th>disbursement_date</th>\n",
              "      <th>due_date</th>\n",
              "      <th>duration</th>\n",
              "      <th>New_versus_Repeat</th>\n",
              "      <th>Amount_Funded_By_Lender</th>\n",
              "      <th>Lender_portion_Funded</th>\n",
              "      <th>Lender_portion_to_be_repaid</th>\n",
              "      <th>target</th>\n",
              "    </tr>\n",
              "  </thead>\n",
              "  <tbody>\n",
              "    <tr>\n",
              "      <th>0</th>\n",
              "      <td>ID_266671248032267278</td>\n",
              "      <td>266671</td>\n",
              "      <td>Kenya</td>\n",
              "      <td>248032</td>\n",
              "      <td>267278</td>\n",
              "      <td>Type_1</td>\n",
              "      <td>8448.0</td>\n",
              "      <td>8448.0</td>\n",
              "      <td>2022-08-30</td>\n",
              "      <td>2022-09-06</td>\n",
              "      <td>7</td>\n",
              "      <td>Repeat Loan</td>\n",
              "      <td>120.85</td>\n",
              "      <td>0.014305</td>\n",
              "      <td>121.0</td>\n",
              "      <td>0</td>\n",
              "    </tr>\n",
              "    <tr>\n",
              "      <th>1</th>\n",
              "      <td>ID_248919228515267278</td>\n",
              "      <td>248919</td>\n",
              "      <td>Kenya</td>\n",
              "      <td>228515</td>\n",
              "      <td>267278</td>\n",
              "      <td>Type_1</td>\n",
              "      <td>25895.0</td>\n",
              "      <td>25979.0</td>\n",
              "      <td>2022-07-30</td>\n",
              "      <td>2022-08-06</td>\n",
              "      <td>7</td>\n",
              "      <td>Repeat Loan</td>\n",
              "      <td>7768.50</td>\n",
              "      <td>0.300000</td>\n",
              "      <td>7794.0</td>\n",
              "      <td>0</td>\n",
              "    </tr>\n",
              "    <tr>\n",
              "      <th>2</th>\n",
              "      <td>ID_308486370501251804</td>\n",
              "      <td>308486</td>\n",
              "      <td>Kenya</td>\n",
              "      <td>370501</td>\n",
              "      <td>251804</td>\n",
              "      <td>Type_7</td>\n",
              "      <td>6900.0</td>\n",
              "      <td>7142.0</td>\n",
              "      <td>2024-09-06</td>\n",
              "      <td>2024-09-13</td>\n",
              "      <td>7</td>\n",
              "      <td>Repeat Loan</td>\n",
              "      <td>1380.00</td>\n",
              "      <td>0.200000</td>\n",
              "      <td>1428.0</td>\n",
              "      <td>0</td>\n",
              "    </tr>\n",
              "    <tr>\n",
              "      <th>3</th>\n",
              "      <td>ID_266004285009267278</td>\n",
              "      <td>266004</td>\n",
              "      <td>Kenya</td>\n",
              "      <td>285009</td>\n",
              "      <td>267278</td>\n",
              "      <td>Type_1</td>\n",
              "      <td>8958.0</td>\n",
              "      <td>9233.0</td>\n",
              "      <td>2022-10-20</td>\n",
              "      <td>2022-10-27</td>\n",
              "      <td>7</td>\n",
              "      <td>Repeat Loan</td>\n",
              "      <td>2687.40</td>\n",
              "      <td>0.300000</td>\n",
              "      <td>2770.0</td>\n",
              "      <td>0</td>\n",
              "    </tr>\n",
              "    <tr>\n",
              "      <th>4</th>\n",
              "      <td>ID_253803305312267278</td>\n",
              "      <td>253803</td>\n",
              "      <td>Kenya</td>\n",
              "      <td>305312</td>\n",
              "      <td>267278</td>\n",
              "      <td>Type_1</td>\n",
              "      <td>4564.0</td>\n",
              "      <td>4728.0</td>\n",
              "      <td>2022-11-28</td>\n",
              "      <td>2022-12-05</td>\n",
              "      <td>7</td>\n",
              "      <td>Repeat Loan</td>\n",
              "      <td>1369.20</td>\n",
              "      <td>0.300000</td>\n",
              "      <td>1418.0</td>\n",
              "      <td>0</td>\n",
              "    </tr>\n",
              "  </tbody>\n",
              "</table>\n",
              "</div>"
            ],
            "text/plain": [
              "                      ID  customer_id country_id  tbl_loan_id  lender_id  \\\n",
              "0  ID_266671248032267278       266671      Kenya       248032     267278   \n",
              "1  ID_248919228515267278       248919      Kenya       228515     267278   \n",
              "2  ID_308486370501251804       308486      Kenya       370501     251804   \n",
              "3  ID_266004285009267278       266004      Kenya       285009     267278   \n",
              "4  ID_253803305312267278       253803      Kenya       305312     267278   \n",
              "\n",
              "  loan_type  Total_Amount  Total_Amount_to_Repay disbursement_date  \\\n",
              "0    Type_1        8448.0                 8448.0        2022-08-30   \n",
              "1    Type_1       25895.0                25979.0        2022-07-30   \n",
              "2    Type_7        6900.0                 7142.0        2024-09-06   \n",
              "3    Type_1        8958.0                 9233.0        2022-10-20   \n",
              "4    Type_1        4564.0                 4728.0        2022-11-28   \n",
              "\n",
              "     due_date  duration New_versus_Repeat  Amount_Funded_By_Lender  \\\n",
              "0  2022-09-06         7       Repeat Loan                   120.85   \n",
              "1  2022-08-06         7       Repeat Loan                  7768.50   \n",
              "2  2024-09-13         7       Repeat Loan                  1380.00   \n",
              "3  2022-10-27         7       Repeat Loan                  2687.40   \n",
              "4  2022-12-05         7       Repeat Loan                  1369.20   \n",
              "\n",
              "   Lender_portion_Funded  Lender_portion_to_be_repaid  target  \n",
              "0               0.014305                        121.0       0  \n",
              "1               0.300000                       7794.0       0  \n",
              "2               0.200000                       1428.0       0  \n",
              "3               0.300000                       2770.0       0  \n",
              "4               0.300000                       1418.0       0  "
            ]
          },
          "metadata": {},
          "output_type": "display_data"
        },
        {
          "data": {
            "text/plain": [
              "(68654, 16)"
            ]
          },
          "metadata": {},
          "output_type": "display_data"
        },
        {
          "data": {
            "text/plain": [
              "'Test'"
            ]
          },
          "metadata": {},
          "output_type": "display_data"
        },
        {
          "data": {
            "text/html": [
              "<div>\n",
              "<style scoped>\n",
              "    .dataframe tbody tr th:only-of-type {\n",
              "        vertical-align: middle;\n",
              "    }\n",
              "\n",
              "    .dataframe tbody tr th {\n",
              "        vertical-align: top;\n",
              "    }\n",
              "\n",
              "    .dataframe thead th {\n",
              "        text-align: right;\n",
              "    }\n",
              "</style>\n",
              "<table border=\"1\" class=\"dataframe\">\n",
              "  <thead>\n",
              "    <tr style=\"text-align: right;\">\n",
              "      <th></th>\n",
              "      <th>ID</th>\n",
              "      <th>customer_id</th>\n",
              "      <th>country_id</th>\n",
              "      <th>tbl_loan_id</th>\n",
              "      <th>lender_id</th>\n",
              "      <th>loan_type</th>\n",
              "      <th>Total_Amount</th>\n",
              "      <th>Total_Amount_to_Repay</th>\n",
              "      <th>disbursement_date</th>\n",
              "      <th>due_date</th>\n",
              "      <th>duration</th>\n",
              "      <th>New_versus_Repeat</th>\n",
              "      <th>Amount_Funded_By_Lender</th>\n",
              "      <th>Lender_portion_Funded</th>\n",
              "      <th>Lender_portion_to_be_repaid</th>\n",
              "    </tr>\n",
              "  </thead>\n",
              "  <tbody>\n",
              "    <tr>\n",
              "      <th>0</th>\n",
              "      <td>ID_269404226088267278</td>\n",
              "      <td>269404</td>\n",
              "      <td>Kenya</td>\n",
              "      <td>226088</td>\n",
              "      <td>267278</td>\n",
              "      <td>Type_1</td>\n",
              "      <td>1919.0</td>\n",
              "      <td>1989.0</td>\n",
              "      <td>2022-07-27</td>\n",
              "      <td>2022-08-03</td>\n",
              "      <td>7</td>\n",
              "      <td>Repeat Loan</td>\n",
              "      <td>575.7</td>\n",
              "      <td>0.300000</td>\n",
              "      <td>597.0</td>\n",
              "    </tr>\n",
              "    <tr>\n",
              "      <th>1</th>\n",
              "      <td>ID_255356300042267278</td>\n",
              "      <td>255356</td>\n",
              "      <td>Kenya</td>\n",
              "      <td>300042</td>\n",
              "      <td>267278</td>\n",
              "      <td>Type_1</td>\n",
              "      <td>2138.0</td>\n",
              "      <td>2153.0</td>\n",
              "      <td>2022-11-16</td>\n",
              "      <td>2022-11-23</td>\n",
              "      <td>7</td>\n",
              "      <td>Repeat Loan</td>\n",
              "      <td>0.0</td>\n",
              "      <td>0.000000</td>\n",
              "      <td>0.0</td>\n",
              "    </tr>\n",
              "    <tr>\n",
              "      <th>2</th>\n",
              "      <td>ID_257026243764267278</td>\n",
              "      <td>257026</td>\n",
              "      <td>Kenya</td>\n",
              "      <td>243764</td>\n",
              "      <td>267278</td>\n",
              "      <td>Type_1</td>\n",
              "      <td>8254.0</td>\n",
              "      <td>8304.0</td>\n",
              "      <td>2022-08-24</td>\n",
              "      <td>2022-08-31</td>\n",
              "      <td>7</td>\n",
              "      <td>Repeat Loan</td>\n",
              "      <td>207.0</td>\n",
              "      <td>0.025079</td>\n",
              "      <td>208.0</td>\n",
              "    </tr>\n",
              "    <tr>\n",
              "      <th>3</th>\n",
              "      <td>ID_264617299409267278</td>\n",
              "      <td>264617</td>\n",
              "      <td>Kenya</td>\n",
              "      <td>299409</td>\n",
              "      <td>267278</td>\n",
              "      <td>Type_1</td>\n",
              "      <td>3379.0</td>\n",
              "      <td>3379.0</td>\n",
              "      <td>2022-11-15</td>\n",
              "      <td>2022-11-22</td>\n",
              "      <td>7</td>\n",
              "      <td>Repeat Loan</td>\n",
              "      <td>1013.7</td>\n",
              "      <td>0.300000</td>\n",
              "      <td>1014.0</td>\n",
              "    </tr>\n",
              "    <tr>\n",
              "      <th>4</th>\n",
              "      <td>ID_247613296713267278</td>\n",
              "      <td>247613</td>\n",
              "      <td>Kenya</td>\n",
              "      <td>296713</td>\n",
              "      <td>267278</td>\n",
              "      <td>Type_1</td>\n",
              "      <td>120.0</td>\n",
              "      <td>120.0</td>\n",
              "      <td>2022-11-10</td>\n",
              "      <td>2022-11-17</td>\n",
              "      <td>7</td>\n",
              "      <td>Repeat Loan</td>\n",
              "      <td>36.0</td>\n",
              "      <td>0.300000</td>\n",
              "      <td>36.0</td>\n",
              "    </tr>\n",
              "  </tbody>\n",
              "</table>\n",
              "</div>"
            ],
            "text/plain": [
              "                      ID  customer_id country_id  tbl_loan_id  lender_id  \\\n",
              "0  ID_269404226088267278       269404      Kenya       226088     267278   \n",
              "1  ID_255356300042267278       255356      Kenya       300042     267278   \n",
              "2  ID_257026243764267278       257026      Kenya       243764     267278   \n",
              "3  ID_264617299409267278       264617      Kenya       299409     267278   \n",
              "4  ID_247613296713267278       247613      Kenya       296713     267278   \n",
              "\n",
              "  loan_type  Total_Amount  Total_Amount_to_Repay disbursement_date  \\\n",
              "0    Type_1        1919.0                 1989.0        2022-07-27   \n",
              "1    Type_1        2138.0                 2153.0        2022-11-16   \n",
              "2    Type_1        8254.0                 8304.0        2022-08-24   \n",
              "3    Type_1        3379.0                 3379.0        2022-11-15   \n",
              "4    Type_1         120.0                  120.0        2022-11-10   \n",
              "\n",
              "     due_date  duration New_versus_Repeat  Amount_Funded_By_Lender  \\\n",
              "0  2022-08-03         7       Repeat Loan                    575.7   \n",
              "1  2022-11-23         7       Repeat Loan                      0.0   \n",
              "2  2022-08-31         7       Repeat Loan                    207.0   \n",
              "3  2022-11-22         7       Repeat Loan                   1013.7   \n",
              "4  2022-11-17         7       Repeat Loan                     36.0   \n",
              "\n",
              "   Lender_portion_Funded  Lender_portion_to_be_repaid  \n",
              "0               0.300000                        597.0  \n",
              "1               0.000000                          0.0  \n",
              "2               0.025079                        208.0  \n",
              "3               0.300000                       1014.0  \n",
              "4               0.300000                         36.0  "
            ]
          },
          "metadata": {},
          "output_type": "display_data"
        },
        {
          "data": {
            "text/plain": [
              "(18594, 15)"
            ]
          },
          "metadata": {},
          "output_type": "display_data"
        }
      ],
      "source": [
        "# Loading the train dataset\n",
        "train = pd.read_csv('data/Train.csv')\n",
        "test = pd.read_csv('data/Test.csv')\n",
        "# Display the first few rows of the datasets and their shape\n",
        "pd.set_option('display.max_columns', None)\n",
        "display(\"Train\", train.head(), train.shape, \"Test\", test.head(), test.shape)"
      ]
    },
    {
      "cell_type": "code",
      "execution_count": 3,
      "metadata": {
        "colab": {
          "base_uri": "https://localhost:8080/"
        },
        "id": "oP15Xwr1rWtV",
        "outputId": "6631493f-1466-45a1-e624-c36f0cbf02da"
      },
      "outputs": [
        {
          "name": "stdout",
          "output_type": "stream",
          "text": [
            "<class 'pandas.core.frame.DataFrame'>\n",
            "RangeIndex: 68654 entries, 0 to 68653\n",
            "Data columns (total 16 columns):\n",
            " #   Column                       Non-Null Count  Dtype  \n",
            "---  ------                       --------------  -----  \n",
            " 0   ID                           68654 non-null  object \n",
            " 1   customer_id                  68654 non-null  int64  \n",
            " 2   country_id                   68654 non-null  object \n",
            " 3   tbl_loan_id                  68654 non-null  int64  \n",
            " 4   lender_id                    68654 non-null  int64  \n",
            " 5   loan_type                    68654 non-null  object \n",
            " 6   Total_Amount                 68654 non-null  float64\n",
            " 7   Total_Amount_to_Repay        68654 non-null  float64\n",
            " 8   disbursement_date            68654 non-null  object \n",
            " 9   due_date                     68654 non-null  object \n",
            " 10  duration                     68654 non-null  int64  \n",
            " 11  New_versus_Repeat            68654 non-null  object \n",
            " 12  Amount_Funded_By_Lender      68654 non-null  float64\n",
            " 13  Lender_portion_Funded        68654 non-null  float64\n",
            " 14  Lender_portion_to_be_repaid  68654 non-null  float64\n",
            " 15  target                       68654 non-null  int64  \n",
            "dtypes: float64(5), int64(5), object(6)\n",
            "memory usage: 8.4+ MB\n"
          ]
        }
      ],
      "source": [
        "# Check column types & missing values\n",
        "train.info()"
      ]
    },
    {
      "cell_type": "code",
      "execution_count": 4,
      "metadata": {
        "colab": {
          "base_uri": "https://localhost:8080/"
        },
        "id": "m2iSLCpUrjRo",
        "outputId": "d1401dee-885b-4955-f6b1-b888bdf489db"
      },
      "outputs": [
        {
          "name": "stdout",
          "output_type": "stream",
          "text": [
            "There are 0 missing values in the data.\n"
          ]
        }
      ],
      "source": [
        "# Are there missing values in the train dataset ?\n",
        "print(f\"There are {train.isna().sum().sum()} missing values in the data.\")"
      ]
    },
    {
      "cell_type": "markdown",
      "metadata": {
        "id": "qbc_jPpr9yDh"
      },
      "source": [
        "### EDA"
      ]
    },
    {
      "cell_type": "code",
      "execution_count": 5,
      "metadata": {
        "id": "Fpu52BLQLxx1"
      },
      "outputs": [],
      "source": [
        "def plot_continuous(df, column, transform=None):\n",
        "    \"\"\"\n",
        "    Plots visualizations for a continuous variable, showing the distribution and boxplot for both\n",
        "    the original and transformed versions of the data.\n",
        "\n",
        "    Args:\n",
        "        df (pandas.DataFrame): The DataFrame containing the data.\n",
        "        column (str): The column name of the continuous variable to plot.\n",
        "        transform (str, optional): Transformation to apply to the data before plotting.\n",
        "                                  Accepted values are 'log' or 'sqrt'. Default is None, which means no transformation.\n",
        "\n",
        "    This function generates:\n",
        "        - A histogram with a kernel density estimate (KDE) for the original data.\n",
        "        - A boxplot for the original data.\n",
        "        - If a transformation is specified ('log' or 'sqrt'):\n",
        "            - A histogram with a KDE for the transformed data.\n",
        "            - A boxplot for the transformed data.\n",
        "    \"\"\"\n",
        "    # Create subplots for visualizations\n",
        "    fig, axs = plt.subplots(2, 2, figsize=(15, 15))\n",
        "\n",
        "    # Original data plots\n",
        "    sns.histplot(df[column], kde=True, ax=axs[0, 0])\n",
        "    axs[0, 0].set_title(f'Distribution of {column}')\n",
        "    axs[0, 0].set_xlabel(column)\n",
        "\n",
        "    sns.boxplot(y=df[column], ax=axs[1, 0])\n",
        "    axs[1, 0].set_title(f'Box Plot of {column}')\n",
        "    axs[1, 0].set_ylabel(column)\n",
        "\n",
        "    # Transformations (log or square root)\n",
        "    if transform == 'log':\n",
        "        transformed_data = np.log1p(df[column])  # log1p handles log(0) gracefully\n",
        "        transform_label = 'Log'\n",
        "    elif transform == 'sqrt':\n",
        "        transformed_data = np.sqrt(df[column])  # Square root transformation\n",
        "        transform_label = 'Square Root'\n",
        "    else:\n",
        "        transformed_data = None  # No transformation if not specified\n",
        "\n",
        "    # If transformed data exists, generate corresponding plots\n",
        "    if transformed_data is not None:\n",
        "        sns.histplot(transformed_data, kde=True, ax=axs[0, 1])\n",
        "        axs[0, 1].set_title(f'{transform_label} Distribution of {column}')\n",
        "        axs[0, 1].set_xlabel(f'{transform_label}({column})')\n",
        "\n",
        "        sns.boxplot(y=transformed_data, ax=axs[1, 1])\n",
        "        axs[1, 1].set_title(f'{transform_label} Box Plot of {column}')\n",
        "        axs[1, 1].set_ylabel(f'{transform_label}({column})')\n",
        "    else:\n",
        "        # If no transformation, remove the second set of axes\n",
        "        for ax in [axs[0, 1], axs[1, 1]]:\n",
        "            ax.remove()\n",
        "\n",
        "    # Adjust layout to prevent overlap\n",
        "    plt.tight_layout()\n",
        "    plt.show()\n",
        "\n",
        "\n",
        "def plot_categorical(df, column):\n",
        "    \"\"\"\n",
        "    Plots visualizations for a categorical variable, including a bar plot and a pie chart.\n",
        "\n",
        "    Args:\n",
        "        df (pandas.DataFrame): The DataFrame containing the data.\n",
        "        column (str): The column name of the categorical variable to plot.\n",
        "\n",
        "    This function generates:\n",
        "        - A bar plot showing the counts of each category in the specified column.\n",
        "        - A pie chart showing the relative proportions of each category.\n",
        "    \"\"\"\n",
        "    # Create subplots for visualizations\n",
        "    fig, (ax1, ax2) = plt.subplots(1, 2, figsize=(15, 5))\n",
        "\n",
        "    # Bar plot showing counts of each category\n",
        "    value_counts = df[column].value_counts()\n",
        "    sns.barplot(x=value_counts.index, y=value_counts.values, ax=ax1)\n",
        "    ax1.set_title(f'Bar Plot of {column}')\n",
        "    ax1.set_xlabel(column)\n",
        "    ax1.set_ylabel('Count')\n",
        "    ax1.tick_params(axis='x', rotation=45)  # Rotate x-axis labels for better readability\n",
        "\n",
        "    # Pie chart showing percentage distribution of each category\n",
        "    ax2.pie(value_counts.values, labels=value_counts.index, autopct='%1.1f%%')\n",
        "    ax2.set_title(f'Pie Chart of {column}')\n",
        "\n",
        "    # Adjust layout to prevent overlap\n",
        "    plt.tight_layout()\n",
        "    plt.show()\n"
      ]
    },
    {
      "cell_type": "markdown",
      "metadata": {
        "id": "0uQ6y1nh9yDl"
      },
      "source": [
        "#### Categorical exploration"
      ]
    },
    {
      "cell_type": "markdown",
      "metadata": {},
      "source": [
        "# Understand the Target Variable\n",
        "Before we can do anything we first have to understand the column we are trying to predict. \n",
        "- The question to answer is: Out of all the loans in our training data, how many actually defaulted?"
      ]
    },
    {
      "cell_type": "code",
      "execution_count": 6,
      "metadata": {},
      "outputs": [
        {
          "data": {
            "image/png": "[encoded data removed]",
            "text/plain": [
              "<Figure size 1080x360 with 2 Axes>"
            ]
          },
          "metadata": {
            "needs_background": "light"
          },
          "output_type": "display_data"
        }
      ],
      "source": [
        "plot_categorical(train, 'target')"
      ]
    },
    {
      "cell_type": "markdown",
      "metadata": {},
      "source": [
        "## ***Analysis***:\n",
        "The dataset is highly imbalanced. \n",
        "The vast majority of the customers are good(98.2%) \n",
        "The real problem is in finding the tiny fraction (1.8%) of customers who will cause the financial institutions to lose money.\n",
        "\n",
        "\n",
        "## **Consequences of this imbalance**:\n",
        "- **Evaluation metric**: The F1-score is choosen as it forces our model to get good at predicting both classes and not just the majority class\n",
        "\n",
        "- **Modeling strategy**: Techniques used to handle the imbalance are:\n",
        "  - using stratified cross-validation\n",
        "  - using algorithms that handle imbalance well (e.g., tree-based algorithms)\n",
        "  - using advanced resampling techniques (e.g., SMOTE, ADASYN)\n",
        "  - using anomaly detection algorithms (e.g., Isolation Forest, One-Class SVM)\n",
        "  - using cost-sensitive learning (e.g., adjusting class weights in algorithms like logistic regression, decision trees, and support vector machines)\n",
        "  - using ensemble methods (e.g., Random Forest, Gradient Boosting) that can handle imbalance better than single models\n",
        "  - using threshold moving to adjust the decision threshold for classification\n",
        "  - using evaluation metrics that are more appropriate for imbalanced datasets (e.g., precision, recall, F1-score, ROC-AUC)\n",
        "  - using data augmentation techniques to generate synthetic samples of the minority class\n",
        "  - using feature engineering to create new features that can help distinguish between the classes better\n",
        "  - using domain knowledge to identify important features and relationships in the data that can help improve model performance\n",
        "  - using hyperparameter tuning to optimize model performance for the imbalanced dataset\n",
        "  - using cross-validation techniques that are appropriate for imbalanced datasets(e.g., stratified k-fold cross-validation)\n",
        "  - using ensemble methods that combine multiple models to improve performance on imbalanced datasets (e.g., bagging, boosting)\n",
        "  - using transfer learning to leverage pre-trained models on similar tasks to improve performance on the imbalanced dataset\n",
        "  - using active learning to iteratively select the most informative samples for labeling and training the model\n",
        "  - using semi-supervised learning to leverage both labeled and unlabeled data to improve model performance on the imbalanced dataset\n",
        "  - using deep learning techniques that can handle imbalanced datasets (e.g., convolutional neural networks, recurrent neural networks)\n",
        "  - using explainable AI techniques to understand how the model is making predictions and identify potential biases in the data\n",
        "  - using regularization techniques to prevent overfitting and improve generalization on the imbalanced dataset\n",
        "  - data cleaning to remove noise and outliers that can negatively impoct model performance on the imbalanced dataset\n",
        "  - using feature selection techniques to identify the most importnant features for the imbalanced dataset\n",
        "  - data visualization that can help identify patterns and relationships in the data that can improve model performance on the imbalanced dataset.\n",
        "  - using ensemble methods that combine multiple techniques to improve performance on imbalanced datasets (e.g., SMOTE + cost-sensitive learning + ensemble methods)\n",
        "  - using a combination of the above techniques to improve model performance on the imbalanced dataset. "
      ]
    },
    {
      "cell_type": "code",
      "execution_count": 7,
      "metadata": {},
      "outputs": [
        {
          "name": "stdout",
          "output_type": "stream",
          "text": [
            "Found 10 numerical features:\n",
            "['customer_id', 'tbl_loan_id', 'lender_id', 'Total_Amount', 'Total_Amount_to_Repay', 'duration', 'Amount_Funded_By_Lender', 'Lender_portion_Funded', 'Lender_portion_to_be_repaid', 'target']\n",
            "\n",
            "------------------------------------\n",
            "\n",
            "Found 6 categorical features:\n",
            "['ID', 'country_id', 'loan_type', 'disbursement_date', 'due_date', 'New_versus_Repeat']\n"
          ]
        }
      ],
      "source": [
        "# Assume 'train_df' is your loaded training DataFrame\n",
        "\n",
        "# Select columns with numerical data types\n",
        "numerical_features = train.select_dtypes(include=['int64', 'float64']).columns\n",
        "num_numerical_features = len(numerical_features)\n",
        "\n",
        "# Select columns with categorical/text data types\n",
        "categorical_features = train.select_dtypes(include=['object']).columns\n",
        "num_categorical_features = len(categorical_features)\n",
        "\n",
        "print(f\"Found {num_numerical_features} numerical features:\")\n",
        "print(list(numerical_features))\n",
        "\n",
        "print(\"\\n------------------------------------\\n\")\n",
        "\n",
        "print(f\"Found {num_categorical_features} categorical features:\")\n",
        "print(list(categorical_features))"
      ]
    },
    {
      "cell_type": "markdown",
      "metadata": {},
      "source": [
        "## **Find predictive Signal (Numerical Feature vs. Target)**\n",
        "We investigate the relationship between each numerical feature and the target variable to see which are most predictive of loan default. \n",
        "\n",
        "- For which of our features do defaulters look the most different from people who pay back?\n"
      ]
    },
    {
      "cell_type": "code",
      "execution_count": 8,
      "metadata": {},
      "outputs": [
        {
          "name": "stdout",
          "output_type": "stream",
          "text": [
            "Features with the largest difference in mean between Defaulters and Non-Defaulters:\n",
            "Total_Amount_to_Repay          107190.593765\n",
            "Total_Amount                    90873.954680\n",
            "Lender_portion_to_be_repaid     10925.598099\n",
            "Amount_Funded_By_Lender          9053.549695\n",
            "duration                           18.891401\n",
            "Lender_portion_Funded               0.043966\n",
            "dtype: float64\n"
          ]
        }
      ],
      "source": [
        "# Identify numerical columns (excluding IDs and the target itself)\n",
        "numerical_cols = train.select_dtypes(include=['number']).columns.drop(['customer_id', 'tbl_loan_id', 'lender_id', 'target'])\n",
        "\n",
        "# Group by target and calculate the mean for each numerical column\n",
        "grouped_stats = train.groupby('target')[numerical_cols].mean()\n",
        "\n",
        "# Calculate the absolute difference in means between the two target classes\n",
        "mean_difference = abs(grouped_stats.loc[0] - grouped_stats.loc[1])\n",
        "\n",
        "# Sort the features by the difference in their means\n",
        "sorted_differences = mean_difference.sort_values(ascending=False)\n",
        "\n",
        "# Display the results\n",
        "print(\"Features with the largest difference in mean between Defaulters and Non-Defaulters:\")\n",
        "print(sorted_differences)"
      ]
    },
    {
      "cell_type": "markdown",
      "metadata": {},
      "source": [
        "## Visualizing the differences"
      ]
    },
    {
      "cell_type": "code",
      "execution_count": 9,
      "metadata": {},
      "outputs": [
        {
          "data": {
            "image/png": "[encoded data removed]",
            "text/plain": [
              "<Figure size 720x432 with 1 Axes>"
            ]
          },
          "metadata": {
            "needs_background": "light"
          },
          "output_type": "display_data"
        },
        {
          "data": {
            "image/png": "[encoded data removed]",
            "text/plain": [
              "<Figure size 720x432 with 1 Axes>"
            ]
          },
          "metadata": {
            "needs_background": "light"
          },
          "output_type": "display_data"
        },
        {
          "data": {
            "image/png": "[encoded data removed]",
            "text/plain": [
              "<Figure size 720x432 with 1 Axes>"
            ]
          },
          "metadata": {
            "needs_background": "light"
          },
          "output_type": "display_data"
        },
        {
          "data": {
            "image/png": "[encoded data removed]",
            "text/plain": [
              "<Figure size 720x432 with 1 Axes>"
            ]
          },
          "metadata": {
            "needs_background": "light"
          },
          "output_type": "display_data"
        },
        {
          "data": {
            "image/png": "[encoded data removed]",
            "text/plain": [
              "<Figure size 720x432 with 1 Axes>"
            ]
          },
          "metadata": {
            "needs_background": "light"
          },
          "output_type": "display_data"
        },
        {
          "data": {
            "image/png": "[encoded data removed]",
            "text/plain": [
              "<Figure size 720x432 with 1 Axes>"
            ]
          },
          "metadata": {
            "needs_background": "light"
          },
          "output_type": "display_data"
        }
      ],
      "source": [
        "import numpy as np\n",
        "import seaborn as sns\n",
        "import matplotlib.pyplot as plt\n",
        "\n",
        "# The list of numerical features we want to investigate\n",
        "features_to_plot = [\n",
        "    'Total_Amount_to_Repay',\n",
        "    'Total_Amount',\n",
        "    'Lender_portion_to_be_repaid',\n",
        "    'Amount_Funded_By_Lender',\n",
        "    'duration',\n",
        "    'Lender_portion_Funded'\n",
        "]\n",
        "\n",
        "# Loop through each feature and plot its log distribution\n",
        "for col in features_to_plot:\n",
        "    plt.figure(figsize=(10, 6))\n",
        "    \n",
        "    # Apply log transformation to the column for both groups\n",
        "    sns.kdeplot(np.log1p(train[train['target'] == 0][col]), label='Paid (Target=0)', shade=True)\n",
        "    sns.kdeplot(np.log1p(train[train['target'] == 1][col]), label='Defaulted (Target=1)', shade=True)\n",
        "    \n",
        "    # Update title and labels to reflect the transformation\n",
        "    plt.title(f'Log Distribution of {col} by Target Status', fontsize=16)\n",
        "    plt.xlabel(f'Log({col})', fontsize=12)\n",
        "    plt.ylabel('Density', fontsize=12)\n",
        "    plt.legend()\n",
        "    plt.show()"
      ]
    },
    {
      "cell_type": "markdown",
      "metadata": {},
      "source": [
        "\n",
        "#### **Overall Finding**\n",
        "\n",
        "The exploratory data analysis reveals clear differences in the distributions of several key numerical features between loans that were paid back (Target=0) and loans that defaulted (Target=1). By plotting these features on a logarithmic scale, we can overcome the data skewness and identify strong predictive signals that will be crucial for our machine learning model.\n",
        "\n",
        "\n",
        "#### **1. Loan Amounts (Total_Amount & Total_Amount_to_Repay)**\n",
        "\n",
        "- **Observation:** The distributions for the \"Paid\" group (blue) are narrower and have a higher peak at a lower loan amount compared to the \"Defaulted\" group (orange). The orange curve is flatter and shifted to the right, indicating a wider range of loan amounts and a tendency towards higher amounts.\n",
        "    \n",
        "- **Business Takeaway:** **Customers who default tend to take out larger loans on average than customers who pay back.** The higher the loan amount, the higher the potential risk. This is a very strong and intuitive predictor for our model.\n",
        "    \n",
        "\n",
        "#### **2. Loan Duration (duration)**\n",
        "\n",
        "- **Observation:** The \"Paid\" group (blue) shows an extremely sharp and high peak at a Log(duration) of around 2.0 (which corresponds to a duration of approx. 7 days, since e^2 ≈ 7.4). The \"Defaulted\" group (orange) has a much lower, wider peak and a thicker \"tail,\" indicating that defaults occur across a wider range of loan durations.\n",
        "    \n",
        "- **Business Takeaway:** **The vast majority of successful loans are very short-term (around 7 days).** While defaults also happen with short-term loans, a longer loan duration is a significant risk factor.\n",
        "    \n",
        "\n",
        "\n",
        "#### **3. Lender Funding (Amount_Funded_By_Lender & Lender_portion_to_be_repaid)**\n",
        "\n",
        "- **Observation:** This is a very interesting pattern. The \"Paid\" group (blue) has a distinct peak at Log(Amount) equal to 0 (which means the original amount was 0), and then another larger peak around 7-8. The \"Defaulted\" group (orange) has almost no density at 0 and its main peak is slightly to the right of the \"Paid\" group's main peak.\n",
        "    \n",
        "- **Business Takeaway:** **Loans where the lender funded little to nothing (Amount ≈ 0) are very likely to be paid back.** When the lender does fund an amount, defaulters tend to have slightly higher amounts funded by the lender than non-defaulters.\n",
        "    \n",
        "\n",
        "\n",
        "#### **4. Lender Portion Funded (Lender_portion_Funded)**\n",
        "\n",
        "- **Observation:** This plot is now much clearer. The \"Paid\" group (blue) has three distinct behaviors: a peak near 0, another small peak, and a very large peak around Log(0.3) which is approx -1.2. The \"Defaulted\" group (orange) has a wider, more spread-out distribution.\n",
        "    \n",
        "- **Business Takeaway:** The funding strategy appears to be a key indicator. **Customers who default have a more varied and less predictable lender funding portion.** In contrast, good customers seem to fall into very specific funding brackets.\n",
        "    \n"
      ]
    },
    {
      "cell_type": "code",
      "execution_count": 10,
      "metadata": {},
      "outputs": [
        {
          "name": "stdout",
          "output_type": "stream",
          "text": [
            "Column: ID\n",
            "ID_257162303238267278    1\n",
            "ID_246773276686267278    1\n",
            "ID_249371232390267278    1\n",
            "ID_259525238352267278    1\n",
            "ID_258912217681267278    1\n",
            "                        ..\n",
            "ID_251850282947267278    1\n",
            "ID_247947238027267278    1\n",
            "ID_252906238495267278    1\n",
            "ID_269385254834267278    1\n",
            "ID_263412256999267278    1\n",
            "Name: ID, Length: 68654, dtype: int64\n",
            "Number of unique values: 68654\n",
            "----------------------------------------\n",
            "Column: country_id\n",
            "Kenya    68654\n",
            "Name: country_id, dtype: int64\n",
            "Number of unique values: 1\n",
            "----------------------------------------\n",
            "Column: loan_type\n",
            "Type_1     61723\n",
            "Type_7      2790\n",
            "Type_5      1521\n",
            "Type_4      1235\n",
            "Type_10      466\n",
            "Type_6       357\n",
            "Type_9       205\n",
            "Type_14       99\n",
            "Type_2        74\n",
            "Type_11       42\n",
            "Type_18       30\n",
            "Type_17       23\n",
            "Type_12       21\n",
            "Type_23       18\n",
            "Type_20       13\n",
            "Type_16       12\n",
            "Type_13       10\n",
            "Type_19        4\n",
            "Type_15        4\n",
            "Type_21        3\n",
            "Type_24        3\n",
            "Type_22        1\n",
            "Name: loan_type, dtype: int64\n",
            "Number of unique values: 22\n",
            "----------------------------------------\n",
            "Column: disbursement_date\n",
            "2022-07-16    938\n",
            "2022-07-25    887\n",
            "2022-08-01    884\n",
            "2022-07-23    872\n",
            "2022-07-30    853\n",
            "             ... \n",
            "2022-02-20      1\n",
            "2024-03-07      1\n",
            "2021-10-14      1\n",
            "2024-03-28      1\n",
            "2022-08-21      1\n",
            "Name: disbursement_date, Length: 768, dtype: int64\n",
            "Number of unique values: 768\n",
            "----------------------------------------\n",
            "Column: due_date\n",
            "2022-07-23    940\n",
            "2022-08-01    887\n",
            "2022-08-08    885\n",
            "2022-07-30    871\n",
            "2022-08-06    865\n",
            "             ... \n",
            "2022-01-19      1\n",
            "2023-04-06      1\n",
            "2024-02-10      1\n",
            "2024-05-25      1\n",
            "2023-01-21      1\n",
            "Name: due_date, Length: 893, dtype: int64\n",
            "Number of unique values: 893\n",
            "----------------------------------------\n",
            "Column: New_versus_Repeat\n",
            "Repeat Loan    68087\n",
            "New Loan         567\n",
            "Name: New_versus_Repeat, dtype: int64\n",
            "Number of unique values: 2\n",
            "----------------------------------------\n"
          ]
        }
      ],
      "source": [
        "# Display the unique value counts and their sum for each categorical feature in the train dataset\n",
        "\n",
        "categorical_features = train.select_dtypes(include=['object']).columns\n",
        "\n",
        "for col in categorical_features:\n",
        "    value_counts = train[col].value_counts()\n",
        "    print(f\"Column: {col}\")\n",
        "    print(value_counts)\n",
        "    print(f\"Number of unique values: {train[col].nunique()}\")\n",
        "    print(\"-\" * 40)"
      ]
    },
    {
      "cell_type": "markdown",
      "metadata": {},
      "source": [
        "### **Find a Predictive Signal (Categorical Feature vs. Target)**\n",
        "- Just like with numerical features, we want to know if the proportion of defaulters is different acros various categories.\n",
        "\n",
        "Business question: \n",
        "- Are customers who are New more or less likely to default than customers who are Repeat? \n",
        "- Are certain loan types riskier than others?"
      ]
    },
    {
      "cell_type": "code",
      "execution_count": 11,
      "metadata": {},
      "outputs": [
        {
          "name": "stdout",
          "output_type": "stream",
          "text": [
            "Analyzing the following categorical features: ['loan_type', 'New_versus_Repeat']\n"
          ]
        },
        {
          "data": {
            "image/png": "[encoded data removed]",
            "text/plain": [
              "<Figure size 864x432 with 1 Axes>"
            ]
          },
          "metadata": {
            "needs_background": "light"
          },
          "output_type": "display_data"
        },
        {
          "data": {
            "image/png": "[encoded data removed]",
            "text/plain": [
              "<Figure size 864x432 with 1 Axes>"
            ]
          },
          "metadata": {
            "needs_background": "light"
          },
          "output_type": "display_data"
        }
      ],
      "source": [
        "import seaborn as sns\n",
        "import matplotlib.pyplot as plt\n",
        "\n",
        "def plot_categorical_vs_target(df, column_name):\n",
        "    \"\"\"\n",
        "    Plots the default rate (percentage of target=1) for each category \n",
        "    of a specified column.\n",
        "\n",
        "    Args:\n",
        "        df (pandas.DataFrame): The DataFrame containing the data.\n",
        "        column_name (str): The name of the categorical column to plot.\n",
        "    \"\"\"\n",
        "    plt.figure(figsize=(12, 6))\n",
        "    \n",
        "    # Calculate the default rate for each category and sort it\n",
        "    default_rate = df.groupby(column_name)['target'].mean().sort_values(ascending=False) * 100\n",
        "    \n",
        "    # Create the bar plot\n",
        "    sns.barplot(x=default_rate.index, y=default_rate.values, palette=\"viridis\")\n",
        "    \n",
        "    plt.title(f'Default Rate by {column_name}', fontsize=16)\n",
        "    plt.xlabel(column_name, fontsize=12)\n",
        "    plt.ylabel('Default Rate (%)', fontsize=12)\n",
        "    plt.xticks(rotation=45) \n",
        "    plt.show()\n",
        "\n",
        "# --- Now, let's use the function ---\n",
        "\n",
        "# First, get a list of all categorical columns\n",
        "all_categorical_features = train.select_dtypes(include=['object']).columns\n",
        "\n",
        "# Create a list of features to plot.\n",
        "# We exclude columns like 'ID' because they have too many unique values to be useful here,\n",
        "# and we already know 'country_id' only has one value in the training set.\n",
        "# The date columns are also not suitable for this type of bar chart.    \n",
        "features_to_plot = ['loan_type', 'New_versus_Repeat']\n",
        "\n",
        "\n",
        "# Loop through our list of relevant categorical features and create a plot for each\n",
        "print(f\"Analyzing the following categorical features: {features_to_plot}\")\n",
        "for col in features_to_plot:\n",
        "    plot_categorical_vs_target(train, col)"
      ]
    },
    {
      "cell_type": "markdown",
      "metadata": {},
      "source": [
        "## ***Analyze Categorical Features***\n",
        "\n",
        "Analysis of the key categorical features reveals strong relationships between the loan characteristics and the probability of default. These features will be highly valuable for our predictive model.\n",
        "\n",
        "\n",
        "#### **1. Default Rate by New_versus_Repeat**\n",
        "\n",
        "- **Observation:** The bar chart shows a dramatic difference in default rates. \"New Loan\" customers have a default rate of over **20%**, while \"Repeat Loan\" customers have a default rate of less than **2%**.\n",
        "    \n",
        "- **Business Takeaway:** This is arguably the **strongest single predictor of risk** we have seen so far. Customers with no prior borrowing history with the lender are more than **10 times more likely to default** than existing customers. Our model must pay very close attention to this feature. It confirms the common business wisdom that past performance is a key indicator of future reliability.\n",
        "    \n",
        "\n",
        "#### **2. Default Rate by loan_type**\n",
        "\n",
        "- **Observation:** There is a very wide variance in risk across different loan types.\n",
        "    \n",
        "    - **High-Risk Loans:** Type_15, Type_23, and Type_14 have extremely high default rates, exceeding **70%**. Type_2 and Type_20 are also very high-risk, with default rates over 50%.\n",
        "        \n",
        "    - **Low-Risk Loans:** Type_1, which is the most common loan type in the dataset, has a very low default rate (close to 1%). Many other loan types (Type_16, Type_17, etc.) have a 0% default rate in the training data, though this might be due to having very few samples.\n",
        "        \n",
        "- **Business Takeaway:** The specific product or type of loan a customer applies for is a critical indicator of risk. The model can learn to assign a much higher risk score to customers applying for Type_15 or Type_23 loans compared to the much safer Type_1 loans. This information could be used by the business to either tighten lending criteria for high-risk products or to re-evaluate the profitability of offering them at all."
      ]
    },
    {
      "cell_type": "markdown",
      "metadata": {},
      "source": [
        "## **FEATURE ENGINEERING**\n",
        "### **DATE-BASED FEATURES**\n",
        "\n",
        "- The disbursement_date and due_date columns are not useful in their raw form. However, we can extract meaningful features from them that may help our model.\n",
        "\n",
        "#### **Data validation**\n",
        "- we have a duration column but calculating it ourselves from the dates allows us to check for any inconsistencies which could be a very interesting signal on their own.\n",
        "\n",
        "**operations to perform**\n",
        "- combine data into one master dataframe: to ensure we create the same features for both train and test data\n",
        "- convert to datetime format\n",
        "- create the features"
      ]
    },
    {
      "cell_type": "code",
      "execution_count": 12,
      "metadata": {},
      "outputs": [
        {
          "name": "stdout",
          "output_type": "stream",
          "text": [
            "New feature 'repayment_duration_days' created.\n"
          ]
        },
        {
          "data": {
            "text/html": [
              "<div>\n",
              "<style scoped>\n",
              "    .dataframe tbody tr th:only-of-type {\n",
              "        vertical-align: middle;\n",
              "    }\n",
              "\n",
              "    .dataframe tbody tr th {\n",
              "        vertical-align: top;\n",
              "    }\n",
              "\n",
              "    .dataframe thead th {\n",
              "        text-align: right;\n",
              "    }\n",
              "</style>\n",
              "<table border=\"1\" class=\"dataframe\">\n",
              "  <thead>\n",
              "    <tr style=\"text-align: right;\">\n",
              "      <th></th>\n",
              "      <th>disbursement_date</th>\n",
              "      <th>due_date</th>\n",
              "      <th>duration</th>\n",
              "      <th>repayment_duration_days</th>\n",
              "    </tr>\n",
              "  </thead>\n",
              "  <tbody>\n",
              "    <tr>\n",
              "      <th>0</th>\n",
              "      <td>2022-08-30</td>\n",
              "      <td>2022-09-06</td>\n",
              "      <td>7</td>\n",
              "      <td>7</td>\n",
              "    </tr>\n",
              "  </tbody>\n",
              "</table>\n",
              "</div>"
            ],
            "text/plain": [
              "  disbursement_date   due_date  duration  repayment_duration_days\n",
              "0        2022-08-30 2022-09-06         7                        7"
            ]
          },
          "metadata": {},
          "output_type": "display_data"
        },
        {
          "name": "stdout",
          "output_type": "stream",
          "text": [
            "Found 0 rows where the calculated duration does not match the 'duration' column.\n"
          ]
        }
      ],
      "source": [
        "# Make sure you have the original train and test dataframes loaded\n",
        "# train = pd.read_csv('Train.csv')\n",
        "# test = pd.read_csv('Test.csv')\n",
        "\n",
        "# Step 1: Combine the datasets\n",
        "# We add a 'source' column to remember which row came from where\n",
        "train['source'] = 'train'\n",
        "test['source'] = 'test'\n",
        "data = pd.concat([train, test], ignore_index=True)\n",
        "\n",
        "\n",
        "# Step 2: Convert date columns to datetime objects\n",
        "data['disbursement_date'] = pd.to_datetime(data['disbursement_date'])\n",
        "data['due_date'] = pd.to_datetime(data['due_date'])\n",
        "\n",
        "\n",
        "# Step 3: Create a new feature for the calculated duration in days\n",
        "data['repayment_duration_days'] = (data['due_date'] - data['disbursement_date']).dt.days\n",
        "\n",
        "\n",
        "# Display the first few rows with the new column to verify\n",
        "print(\"New feature 'repayment_duration_days' created.\")\n",
        "display(data[['disbursement_date', 'due_date', 'duration', 'repayment_duration_days']].head(1))\n",
        "\n",
        "# Calculate the difference between the two duration columns\n",
        "data['duration_difference'] = data['repayment_duration_days'] - data['duration']\n",
        "\n",
        "# Find out how many rows have a non-zero difference\n",
        "num_inconsistencies = data[data['duration_difference'] != 0].shape[0]\n",
        "\n",
        "print(f\"Found {num_inconsistencies} rows where the calculated duration does not match the 'duration' column.\")\n",
        "\n",
        "# If there are inconsistencies, let's look at a few of them\n",
        "if num_inconsistencies > 0:\n",
        "    print(\"\\n--- Examples of Inconsistent Durations ---\")\n",
        "    # Display the relevant columns for the inconsistent rows\n",
        "    print(data[data['duration_difference'] != 0][[\n",
        "        'disbursement_date', \n",
        "        'due_date', \n",
        "        'duration', \n",
        "        'repayment_duration_days', \n",
        "        'duration_difference'\n",
        "    ]].head())"
      ]
    },
    {
      "cell_type": "markdown",
      "metadata": {},
      "source": [
        "### **Seasonality and trends**\n",
        "- Information like the month, day of the week or year can be very predictive. we create these features from the disbursement_date and not due_date because due_date is information from the future while disbursement_date is known at the time of application.\n",
        "- Are defaults more common in certain months or on certain days of the week?\n"
      ]
    },
    {
      "cell_type": "code",
      "execution_count": 13,
      "metadata": {},
      "outputs": [
        {
          "name": "stdout",
          "output_type": "stream",
          "text": [
            "Created new date-based features and dropped original date columns.\n"
          ]
        },
        {
          "data": {
            "text/html": [
              "<div>\n",
              "<style scoped>\n",
              "    .dataframe tbody tr th:only-of-type {\n",
              "        vertical-align: middle;\n",
              "    }\n",
              "\n",
              "    .dataframe tbody tr th {\n",
              "        vertical-align: top;\n",
              "    }\n",
              "\n",
              "    .dataframe thead th {\n",
              "        text-align: right;\n",
              "    }\n",
              "</style>\n",
              "<table border=\"1\" class=\"dataframe\">\n",
              "  <thead>\n",
              "    <tr style=\"text-align: right;\">\n",
              "      <th></th>\n",
              "      <th>disbursement_month</th>\n",
              "      <th>disbursement_day_of_week</th>\n",
              "      <th>disbursement_year</th>\n",
              "    </tr>\n",
              "  </thead>\n",
              "  <tbody>\n",
              "    <tr>\n",
              "      <th>0</th>\n",
              "      <td>8</td>\n",
              "      <td>1</td>\n",
              "      <td>2022</td>\n",
              "    </tr>\n",
              "    <tr>\n",
              "      <th>1</th>\n",
              "      <td>7</td>\n",
              "      <td>5</td>\n",
              "      <td>2022</td>\n",
              "    </tr>\n",
              "    <tr>\n",
              "      <th>2</th>\n",
              "      <td>9</td>\n",
              "      <td>4</td>\n",
              "      <td>2024</td>\n",
              "    </tr>\n",
              "    <tr>\n",
              "      <th>3</th>\n",
              "      <td>10</td>\n",
              "      <td>3</td>\n",
              "      <td>2022</td>\n",
              "    </tr>\n",
              "    <tr>\n",
              "      <th>4</th>\n",
              "      <td>11</td>\n",
              "      <td>0</td>\n",
              "      <td>2022</td>\n",
              "    </tr>\n",
              "  </tbody>\n",
              "</table>\n",
              "</div>"
            ],
            "text/plain": [
              "   disbursement_month  disbursement_day_of_week  disbursement_year\n",
              "0                   8                         1               2022\n",
              "1                   7                         5               2022\n",
              "2                   9                         4               2024\n",
              "3                  10                         3               2022\n",
              "4                  11                         0               2022"
            ]
          },
          "metadata": {},
          "output_type": "display_data"
        }
      ],
      "source": [
        "\n",
        "# Extract time-based features from the disbursement_date\n",
        "data['disbursement_month'] = data['disbursement_date'].dt.month\n",
        "data['disbursement_day_of_week'] = data['disbursement_date'].dt.dayofweek # Monday=0, Sunday=6\n",
        "data['disbursement_year'] = data['disbursement_date'].dt.year\n",
        "\n",
        "# Now that we have extracted all the useful info, we can drop the original date columns\n",
        "# and our temporary validation columns\n",
        "columns_to_drop = ['disbursement_date', 'due_date', 'repayment_duration_days', 'duration_difference']\n",
        "data = data.drop(columns=columns_to_drop)\n",
        "\n",
        "# Display the first few rows with the NEW features to verify\n",
        "print(\"Created new date-based features and dropped original date columns.\")\n",
        "display(data[['disbursement_month', 'disbursement_day_of_week', 'disbursement_year']].head())"
      ]
    },
    {
      "cell_type": "markdown",
      "metadata": {},
      "source": [
        "### **Customer-Level Aggregation Features**\n",
        "- Does a customer's borrowing history (like how many loans they've taken before, their average loan size, etc.) influence their risk of defaulting on a new loan?\"\n",
        "Intuitively, we know the answer is yes. A customer with a long history of successfully paying back loans is very different from a brand new customer. We need to create features that explicitly give this historical context to our model.\n",
        "\n",
        "- we use `groupby` and `agg()` methods to create these features. we'll group our entire data by customer_id. for each customer we calc statistics like: the total number of loans they've had, their average loan amount, and standard deviation of their loan amounts. Then merge these new features back into our main dataframe."
      ]
    },
    {
      "cell_type": "code",
      "execution_count": 14,
      "metadata": {},
      "outputs": [
        {
          "name": "stdout",
          "output_type": "stream",
          "text": [
            "Created new customer-level aggregation features.\n",
            "   customer_id  customer_Total_Amount_mean  customer_Total_Amount_sum  \\\n",
            "0       266671                 7374.753425                   538357.0   \n",
            "1       248919                20532.260870                   472242.0   \n",
            "2       308486                 6575.000000                    78900.0   \n",
            "3       266004                 5531.300000                   110626.0   \n",
            "4       253803                 3555.551724                   103111.0   \n",
            "\n",
            "   customer_Total_Amount_std  customer_duration_mean  customer_duration_max  \\\n",
            "0                3461.627547                     7.0                      7   \n",
            "1               12860.646556                     7.0                      7   \n",
            "2                1503.254046                     7.0                      7   \n",
            "3                2246.972328                     7.0                      7   \n",
            "4                1794.079740                     7.0                      7   \n",
            "\n",
            "   customer_loan_type_count  \n",
            "0                        73  \n",
            "1                        23  \n",
            "2                        12  \n",
            "3                        20  \n",
            "4                        29  \n"
          ]
        }
      ],
      "source": [
        "# Define the aggregations we want to perform for each customer\n",
        "customer_aggregations = {\n",
        "    'Total_Amount': ['mean', 'sum', 'std'], # Average, total, and std dev of loan amount\n",
        "    'duration': ['mean', 'max'],           # Average and longest loan duration\n",
        "    'loan_type': ['count']                  # This will give us the number of loans\n",
        "}\n",
        "\n",
        "# Group by customer_id and calculate the aggregations\n",
        "customer_features = data.groupby('customer_id').agg(customer_aggregations)\n",
        "\n",
        "# The column names will be hierarchical (e.g., ('Total_Amount', 'mean')). \n",
        "# Let's flatten them into single names (e.g., 'customer_Total_Amount_mean')\n",
        "customer_features.columns = ['customer_' + col[0] + '_' + col[1] for col in customer_features.columns]\n",
        "\n",
        "# Now, merge these new features back into our main dataframe\n",
        "data = data.merge(customer_features, on='customer_id', how='left')\n",
        "\n",
        "# Display the first few rows with some of the new columns to verify\n",
        "print(\"Created new customer-level aggregation features.\")\n",
        "new_feature_cols = [\n",
        "    'customer_id',\n",
        "    'customer_Total_Amount_mean',\n",
        "    'customer_Total_Amount_sum',\n",
        "    'customer_Total_Amount_std',\n",
        "    'customer_duration_mean',\n",
        "    'customer_duration_max',\n",
        "    'customer_loan_type_count'\n",
        "]\n",
        "print(data[new_feature_cols].head())\n"
      ]
    },
    {
      "cell_type": "markdown",
      "metadata": {},
      "source": [
        "## Handle missing values \n",
        "That were created during feature engineering\n",
        "- The `customer_Total_Amount_std` has **1259 missing values**. These missing values correspond to the 1259 customers in the dataset who have only taken one loan. You cannot calculate a standard deviation (`std`) for a single data point, so pandas correctly fills it with `NaN"
      ]
    },
    {
      "cell_type": "code",
      "execution_count": 15,
      "metadata": {},
      "outputs": [
        {
          "data": {
            "text/plain": [
              "target                       18594\n",
              "customer_Total_Amount_std     1259\n",
              "dtype: int64"
            ]
          },
          "execution_count": 15,
          "metadata": {},
          "output_type": "execute_result"
        }
      ],
      "source": [
        "# display missing values \n",
        "data.isnull().sum()\n",
        "# display only the columns with missing values\n",
        "data.isnull().sum()[data.isnull().sum() > 0]"
      ]
    },
    {
      "cell_type": "code",
      "execution_count": 16,
      "metadata": {},
      "outputs": [],
      "source": [
        "# Fill missing values\n",
        "if 'customer_Total_Amount_std' in data.columns:\n",
        "    data['customer_Total_Amount_std'] = data['customer_Total_Amount_std'].fillna(0)"
      ]
    },
    {
      "cell_type": "code",
      "execution_count": 17,
      "metadata": {},
      "outputs": [
        {
          "data": {
            "text/plain": [
              "target    18594\n",
              "dtype: int64"
            ]
          },
          "execution_count": 17,
          "metadata": {},
          "output_type": "execute_result"
        }
      ],
      "source": [
        "# validate there is no missing values(except for the target)\n",
        "data.isnull().sum()[data.isnull().sum() > 0]"
      ]
    },
    {
      "cell_type": "markdown",
      "metadata": {},
      "source": [
        "### One-Hot Encode Categorical Features"
      ]
    },
    {
      "cell_type": "code",
      "execution_count": 33,
      "metadata": {},
      "outputs": [
        {
          "name": "stdout",
          "output_type": "stream",
          "text": [
            "Columns to be One-Hot Encoded: ['country_id', 'loan_type', 'New_versus_Repeat']\n",
            "\n",
            "--- Dataframe after One-Hot Encoding ---\n",
            "Original shape: (87248, 24)\n",
            "New shape: (87248, 46)\n",
            "\n",
            "Example of new columns created:\n"
          ]
        },
        {
          "data": {
            "text/html": [
              "<div>\n",
              "<style scoped>\n",
              "    .dataframe tbody tr th:only-of-type {\n",
              "        vertical-align: middle;\n",
              "    }\n",
              "\n",
              "    .dataframe tbody tr th {\n",
              "        vertical-align: top;\n",
              "    }\n",
              "\n",
              "    .dataframe thead th {\n",
              "        text-align: right;\n",
              "    }\n",
              "</style>\n",
              "<table border=\"1\" class=\"dataframe\">\n",
              "  <thead>\n",
              "    <tr style=\"text-align: right;\">\n",
              "      <th></th>\n",
              "      <th>customer_loan_type_count</th>\n",
              "      <th>loan_type_Type_10</th>\n",
              "      <th>loan_type_Type_11</th>\n",
              "      <th>loan_type_Type_12</th>\n",
              "      <th>loan_type_Type_13</th>\n",
              "      <th>loan_type_Type_14</th>\n",
              "      <th>loan_type_Type_15</th>\n",
              "      <th>loan_type_Type_16</th>\n",
              "      <th>loan_type_Type_17</th>\n",
              "      <th>loan_type_Type_18</th>\n",
              "      <th>loan_type_Type_19</th>\n",
              "      <th>loan_type_Type_2</th>\n",
              "      <th>loan_type_Type_20</th>\n",
              "      <th>loan_type_Type_21</th>\n",
              "      <th>loan_type_Type_22</th>\n",
              "      <th>loan_type_Type_23</th>\n",
              "      <th>loan_type_Type_24</th>\n",
              "      <th>loan_type_Type_3</th>\n",
              "      <th>loan_type_Type_4</th>\n",
              "      <th>loan_type_Type_5</th>\n",
              "      <th>loan_type_Type_6</th>\n",
              "      <th>loan_type_Type_7</th>\n",
              "      <th>loan_type_Type_8</th>\n",
              "      <th>loan_type_Type_9</th>\n",
              "      <th>is_repeat_loan</th>\n",
              "    </tr>\n",
              "  </thead>\n",
              "  <tbody>\n",
              "    <tr>\n",
              "      <th>0</th>\n",
              "      <td>73</td>\n",
              "      <td>0</td>\n",
              "      <td>0</td>\n",
              "      <td>0</td>\n",
              "      <td>0</td>\n",
              "      <td>0</td>\n",
              "      <td>0</td>\n",
              "      <td>0</td>\n",
              "      <td>0</td>\n",
              "      <td>0</td>\n",
              "      <td>0</td>\n",
              "      <td>0</td>\n",
              "      <td>0</td>\n",
              "      <td>0</td>\n",
              "      <td>0</td>\n",
              "      <td>0</td>\n",
              "      <td>0</td>\n",
              "      <td>0</td>\n",
              "      <td>0</td>\n",
              "      <td>0</td>\n",
              "      <td>0</td>\n",
              "      <td>0</td>\n",
              "      <td>0</td>\n",
              "      <td>0</td>\n",
              "      <td>1</td>\n",
              "    </tr>\n",
              "    <tr>\n",
              "      <th>1</th>\n",
              "      <td>23</td>\n",
              "      <td>0</td>\n",
              "      <td>0</td>\n",
              "      <td>0</td>\n",
              "      <td>0</td>\n",
              "      <td>0</td>\n",
              "      <td>0</td>\n",
              "      <td>0</td>\n",
              "      <td>0</td>\n",
              "      <td>0</td>\n",
              "      <td>0</td>\n",
              "      <td>0</td>\n",
              "      <td>0</td>\n",
              "      <td>0</td>\n",
              "      <td>0</td>\n",
              "      <td>0</td>\n",
              "      <td>0</td>\n",
              "      <td>0</td>\n",
              "      <td>0</td>\n",
              "      <td>0</td>\n",
              "      <td>0</td>\n",
              "      <td>0</td>\n",
              "      <td>0</td>\n",
              "      <td>0</td>\n",
              "      <td>1</td>\n",
              "    </tr>\n",
              "    <tr>\n",
              "      <th>2</th>\n",
              "      <td>12</td>\n",
              "      <td>0</td>\n",
              "      <td>0</td>\n",
              "      <td>0</td>\n",
              "      <td>0</td>\n",
              "      <td>0</td>\n",
              "      <td>0</td>\n",
              "      <td>0</td>\n",
              "      <td>0</td>\n",
              "      <td>0</td>\n",
              "      <td>0</td>\n",
              "      <td>0</td>\n",
              "      <td>0</td>\n",
              "      <td>0</td>\n",
              "      <td>0</td>\n",
              "      <td>0</td>\n",
              "      <td>0</td>\n",
              "      <td>0</td>\n",
              "      <td>0</td>\n",
              "      <td>0</td>\n",
              "      <td>0</td>\n",
              "      <td>1</td>\n",
              "      <td>0</td>\n",
              "      <td>0</td>\n",
              "      <td>1</td>\n",
              "    </tr>\n",
              "    <tr>\n",
              "      <th>3</th>\n",
              "      <td>20</td>\n",
              "      <td>0</td>\n",
              "      <td>0</td>\n",
              "      <td>0</td>\n",
              "      <td>0</td>\n",
              "      <td>0</td>\n",
              "      <td>0</td>\n",
              "      <td>0</td>\n",
              "      <td>0</td>\n",
              "      <td>0</td>\n",
              "      <td>0</td>\n",
              "      <td>0</td>\n",
              "      <td>0</td>\n",
              "      <td>0</td>\n",
              "      <td>0</td>\n",
              "      <td>0</td>\n",
              "      <td>0</td>\n",
              "      <td>0</td>\n",
              "      <td>0</td>\n",
              "      <td>0</td>\n",
              "      <td>0</td>\n",
              "      <td>0</td>\n",
              "      <td>0</td>\n",
              "      <td>0</td>\n",
              "      <td>1</td>\n",
              "    </tr>\n",
              "    <tr>\n",
              "      <th>4</th>\n",
              "      <td>29</td>\n",
              "      <td>0</td>\n",
              "      <td>0</td>\n",
              "      <td>0</td>\n",
              "      <td>0</td>\n",
              "      <td>0</td>\n",
              "      <td>0</td>\n",
              "      <td>0</td>\n",
              "      <td>0</td>\n",
              "      <td>0</td>\n",
              "      <td>0</td>\n",
              "      <td>0</td>\n",
              "      <td>0</td>\n",
              "      <td>0</td>\n",
              "      <td>0</td>\n",
              "      <td>0</td>\n",
              "      <td>0</td>\n",
              "      <td>0</td>\n",
              "      <td>0</td>\n",
              "      <td>0</td>\n",
              "      <td>0</td>\n",
              "      <td>0</td>\n",
              "      <td>0</td>\n",
              "      <td>0</td>\n",
              "      <td>1</td>\n",
              "    </tr>\n",
              "  </tbody>\n",
              "</table>\n",
              "</div>"
            ],
            "text/plain": [
              "   customer_loan_type_count  loan_type_Type_10  loan_type_Type_11  \\\n",
              "0                        73                  0                  0   \n",
              "1                        23                  0                  0   \n",
              "2                        12                  0                  0   \n",
              "3                        20                  0                  0   \n",
              "4                        29                  0                  0   \n",
              "\n",
              "   loan_type_Type_12  loan_type_Type_13  loan_type_Type_14  loan_type_Type_15  \\\n",
              "0                  0                  0                  0                  0   \n",
              "1                  0                  0                  0                  0   \n",
              "2                  0                  0                  0                  0   \n",
              "3                  0                  0                  0                  0   \n",
              "4                  0                  0                  0                  0   \n",
              "\n",
              "   loan_type_Type_16  loan_type_Type_17  loan_type_Type_18  loan_type_Type_19  \\\n",
              "0                  0                  0                  0                  0   \n",
              "1                  0                  0                  0                  0   \n",
              "2                  0                  0                  0                  0   \n",
              "3                  0                  0                  0                  0   \n",
              "4                  0                  0                  0                  0   \n",
              "\n",
              "   loan_type_Type_2  loan_type_Type_20  loan_type_Type_21  loan_type_Type_22  \\\n",
              "0                 0                  0                  0                  0   \n",
              "1                 0                  0                  0                  0   \n",
              "2                 0                  0                  0                  0   \n",
              "3                 0                  0                  0                  0   \n",
              "4                 0                  0                  0                  0   \n",
              "\n",
              "   loan_type_Type_23  loan_type_Type_24  loan_type_Type_3  loan_type_Type_4  \\\n",
              "0                  0                  0                 0                 0   \n",
              "1                  0                  0                 0                 0   \n",
              "2                  0                  0                 0                 0   \n",
              "3                  0                  0                 0                 0   \n",
              "4                  0                  0                 0                 0   \n",
              "\n",
              "   loan_type_Type_5  loan_type_Type_6  loan_type_Type_7  loan_type_Type_8  \\\n",
              "0                 0                 0                 0                 0   \n",
              "1                 0                 0                 0                 0   \n",
              "2                 0                 0                 1                 0   \n",
              "3                 0                 0                 0                 0   \n",
              "4                 0                 0                 0                 0   \n",
              "\n",
              "   loan_type_Type_9  is_repeat_loan  \n",
              "0                 0               1  \n",
              "1                 0               1  \n",
              "2                 0               1  \n",
              "3                 0               1  \n",
              "4                 0               1  "
            ]
          },
          "metadata": {},
          "output_type": "display_data"
        }
      ],
      "source": [
        "# --- ONE-HOT ENCODING STEP ---\n",
        "\n",
        "# Identify the categorical columns that are suitable for one-hot encoding\n",
        "# (We exclude ID and our temporary 'source' column)\n",
        "categorical_cols_to_encode = [\n",
        "    col for col in data.select_dtypes(include=['object']).columns \n",
        "    if col not in ['ID', 'source']\n",
        "]\n",
        "\n",
        "# We also want to one-hot encode 'New_versus_Repeat' even though it might be a number (0/1) already\n",
        "# This makes our intent clear\n",
        "if 'New_versus_Repeat' not in categorical_cols_to_encode:\n",
        "    categorical_cols_to_encode.append('New_versus_Repeat')\n",
        "\n",
        "print(f\"Columns to be One-Hot Encoded: {categorical_cols_to_encode}\")\n",
        "\n",
        "# Perform one-hot encoding\n",
        "# The 'drop_first=True' argument is a good practice to avoid multicollinearity,\n",
        "# which can be an issue for some models like Logistic Regression.\n",
        "data_encoded = pd.get_dummies(data, columns=categorical_cols_to_encode, drop_first=True)\n",
        "\n",
        "# rename the New_versus_Repeat_Repeat Loan for better clarity\n",
        "data_encoded.rename(columns={'New_versus_Repeat_Repeat Loan': 'is_repeat_loan'}, inplace=True)\n",
        "# Let's look at the result\n",
        "print(\"\\n--- Dataframe after One-Hot Encoding ---\")\n",
        "print(\"Original shape:\", data.shape)\n",
        "print(\"New shape:\", data_encoded.shape)\n",
        "\n",
        "# Find the new columns that were created\n",
        "new_ohe_columns = [col for col in data_encoded.columns if 'loan_type_' in col or 'is_repeat_loan' in col]\n",
        "print(\"\\nExample of new columns created:\")\n",
        "display(data_encoded[new_ohe_columns].head())"
      ]
    },
    {
      "cell_type": "markdown",
      "metadata": {},
      "source": [
        "###  Separate back into final Train and Test sets"
      ]
    },
    {
      "cell_type": "code",
      "execution_count": 30,
      "metadata": {},
      "outputs": [
        {
          "name": "stdout",
          "output_type": "stream",
          "text": [
            "--- Data Splitting Complete ---\n",
            "Shape of original train: (68654, 17)\n",
            "Shape of final_train_df: (68654, 45)\n",
            "\n",
            "Shape of original test: (18594, 16)\n",
            "Shape of final_test_df: (18594, 44)\n",
            "\n",
            "Target variable is present in final_train_df: True\n",
            "Target variable is present in final_test_df: False\n"
          ]
        }
      ],
      "source": [
        "# --- FINAL DATA SPLITTING BLOCK ---\n",
        "\n",
        "# Use the 'source' column to split the data\n",
        "final_train_df = data_encoded[data_encoded['source'] == 'train'].copy()\n",
        "final_test_df = data_encoded[data_encoded['source'] == 'test'].copy()\n",
        "\n",
        "# Now that we've used the 'source' column for its purpose, we can drop it\n",
        "# from both dataframes so it doesn't get used as a feature in the model.\n",
        "final_train_df = final_train_df.drop(columns=['source'])\n",
        "final_test_df = final_test_df.drop(columns=['source', 'target'])\n",
        "\n",
        "\n",
        "# --- Verification ---\n",
        "print(\"--- Data Splitting Complete ---\")\n",
        "print(\"Shape of original train:\", train.shape)\n",
        "print(\"Shape of final_train_df:\", final_train_df.shape)\n",
        "print(\"\\nShape of original test:\", test.shape)\n",
        "print(\"Shape of final_test_df:\", final_test_df.shape)\n",
        "\n",
        "print(\"\\nTarget variable is present in final_train_df:\", 'target' in final_train_df.columns)\n",
        "print(\"Target variable is present in final_test_df:\", 'target' in final_test_df.columns)"
      ]
    },
    {
      "cell_type": "code",
      "execution_count": 31,
      "metadata": {},
      "outputs": [
        {
          "data": {
            "text/plain": [
              "(Index(['ID', 'customer_id', 'tbl_loan_id', 'lender_id', 'Total_Amount',\n",
              "        'Total_Amount_to_Repay', 'duration', 'Amount_Funded_By_Lender',\n",
              "        'Lender_portion_Funded', 'Lender_portion_to_be_repaid', 'target',\n",
              "        'disbursement_month', 'disbursement_day_of_week', 'disbursement_year',\n",
              "        'customer_Total_Amount_mean', 'customer_Total_Amount_sum',\n",
              "        'customer_Total_Amount_std', 'customer_duration_mean',\n",
              "        'customer_duration_max', 'customer_loan_type_count', 'country_id_Kenya',\n",
              "        'loan_type_Type_10', 'loan_type_Type_11', 'loan_type_Type_12',\n",
              "        'loan_type_Type_13', 'loan_type_Type_14', 'loan_type_Type_15',\n",
              "        'loan_type_Type_16', 'loan_type_Type_17', 'loan_type_Type_18',\n",
              "        'loan_type_Type_19', 'loan_type_Type_2', 'loan_type_Type_20',\n",
              "        'loan_type_Type_21', 'loan_type_Type_22', 'loan_type_Type_23',\n",
              "        'loan_type_Type_24', 'loan_type_Type_3', 'loan_type_Type_4',\n",
              "        'loan_type_Type_5', 'loan_type_Type_6', 'loan_type_Type_7',\n",
              "        'loan_type_Type_8', 'loan_type_Type_9', 'is_repeat_loan'],\n",
              "       dtype='object'),\n",
              " Index(['ID', 'customer_id', 'tbl_loan_id', 'lender_id', 'Total_Amount',\n",
              "        'Total_Amount_to_Repay', 'duration', 'Amount_Funded_By_Lender',\n",
              "        'Lender_portion_Funded', 'Lender_portion_to_be_repaid',\n",
              "        'disbursement_month', 'disbursement_day_of_week', 'disbursement_year',\n",
              "        'customer_Total_Amount_mean', 'customer_Total_Amount_sum',\n",
              "        'customer_Total_Amount_std', 'customer_duration_mean',\n",
              "        'customer_duration_max', 'customer_loan_type_count', 'country_id_Kenya',\n",
              "        'loan_type_Type_10', 'loan_type_Type_11', 'loan_type_Type_12',\n",
              "        'loan_type_Type_13', 'loan_type_Type_14', 'loan_type_Type_15',\n",
              "        'loan_type_Type_16', 'loan_type_Type_17', 'loan_type_Type_18',\n",
              "        'loan_type_Type_19', 'loan_type_Type_2', 'loan_type_Type_20',\n",
              "        'loan_type_Type_21', 'loan_type_Type_22', 'loan_type_Type_23',\n",
              "        'loan_type_Type_24', 'loan_type_Type_3', 'loan_type_Type_4',\n",
              "        'loan_type_Type_5', 'loan_type_Type_6', 'loan_type_Type_7',\n",
              "        'loan_type_Type_8', 'loan_type_Type_9', 'is_repeat_loan'],\n",
              "       dtype='object'))"
            ]
          },
          "execution_count": 31,
          "metadata": {},
          "output_type": "execute_result"
        }
      ],
      "source": [
        "#display all the columns of final_train_df\n",
        "\n",
        "final_train_df.columns, final_test_df.columns"
      ]
    },
    {
      "cell_type": "code",
      "execution_count": 52,
      "metadata": {},
      "outputs": [
        {
          "data": {
            "text/plain": [
              "True"
            ]
          },
          "execution_count": 52,
          "metadata": {},
          "output_type": "execute_result"
        }
      ],
      "source": [
        "# check if the columns of final_train_df and final_test_df are the same(except for the target column)\n",
        "set(final_train_df.drop(columns=['target']).columns) == set(final_test_df.columns)"
      ]
    },
    {
      "cell_type": "code",
      "execution_count": 32,
      "metadata": {},
      "outputs": [
        {
          "name": "stdout",
          "output_type": "stream",
          "text": [
            "<class 'pandas.core.frame.DataFrame'>\n",
            "Int64Index: 68654 entries, 0 to 68653\n",
            "Data columns (total 45 columns):\n",
            " #   Column                       Non-Null Count  Dtype  \n",
            "---  ------                       --------------  -----  \n",
            " 0   ID                           68654 non-null  object \n",
            " 1   customer_id                  68654 non-null  int64  \n",
            " 2   tbl_loan_id                  68654 non-null  int64  \n",
            " 3   lender_id                    68654 non-null  int64  \n",
            " 4   Total_Amount                 68654 non-null  float64\n",
            " 5   Total_Amount_to_Repay        68654 non-null  float64\n",
            " 6   duration                     68654 non-null  int64  \n",
            " 7   Amount_Funded_By_Lender      68654 non-null  float64\n",
            " 8   Lender_portion_Funded        68654 non-null  float64\n",
            " 9   Lender_portion_to_be_repaid  68654 non-null  float64\n",
            " 10  target                       68654 non-null  float64\n",
            " 11  disbursement_month           68654 non-null  int64  \n",
            " 12  disbursement_day_of_week     68654 non-null  int64  \n",
            " 13  disbursement_year            68654 non-null  int64  \n",
            " 14  customer_Total_Amount_mean   68654 non-null  float64\n",
            " 15  customer_Total_Amount_sum    68654 non-null  float64\n",
            " 16  customer_Total_Amount_std    68654 non-null  float64\n",
            " 17  customer_duration_mean       68654 non-null  float64\n",
            " 18  customer_duration_max        68654 non-null  int64  \n",
            " 19  customer_loan_type_count     68654 non-null  int64  \n",
            " 20  country_id_Kenya             68654 non-null  uint8  \n",
            " 21  loan_type_Type_10            68654 non-null  uint8  \n",
            " 22  loan_type_Type_11            68654 non-null  uint8  \n",
            " 23  loan_type_Type_12            68654 non-null  uint8  \n",
            " 24  loan_type_Type_13            68654 non-null  uint8  \n",
            " 25  loan_type_Type_14            68654 non-null  uint8  \n",
            " 26  loan_type_Type_15            68654 non-null  uint8  \n",
            " 27  loan_type_Type_16            68654 non-null  uint8  \n",
            " 28  loan_type_Type_17            68654 non-null  uint8  \n",
            " 29  loan_type_Type_18            68654 non-null  uint8  \n",
            " 30  loan_type_Type_19            68654 non-null  uint8  \n",
            " 31  loan_type_Type_2             68654 non-null  uint8  \n",
            " 32  loan_type_Type_20            68654 non-null  uint8  \n",
            " 33  loan_type_Type_21            68654 non-null  uint8  \n",
            " 34  loan_type_Type_22            68654 non-null  uint8  \n",
            " 35  loan_type_Type_23            68654 non-null  uint8  \n",
            " 36  loan_type_Type_24            68654 non-null  uint8  \n",
            " 37  loan_type_Type_3             68654 non-null  uint8  \n",
            " 38  loan_type_Type_4             68654 non-null  uint8  \n",
            " 39  loan_type_Type_5             68654 non-null  uint8  \n",
            " 40  loan_type_Type_6             68654 non-null  uint8  \n",
            " 41  loan_type_Type_7             68654 non-null  uint8  \n",
            " 42  loan_type_Type_8             68654 non-null  uint8  \n",
            " 43  loan_type_Type_9             68654 non-null  uint8  \n",
            " 44  is_repeat_loan               68654 non-null  uint8  \n",
            "dtypes: float64(10), int64(9), object(1), uint8(25)\n",
            "memory usage: 12.6+ MB\n"
          ]
        }
      ],
      "source": [
        "final_train_df.info()"
      ]
    },
    {
      "cell_type": "markdown",
      "metadata": {},
      "source": [
        "# MODELING"
      ]
    },
    {
      "cell_type": "markdown",
      "metadata": {},
      "source": [
        "- **Business question:** How can we measure our model's performance in a way that is reliable and gives us confidence that it will work well on new unseen data like the Ghanaian test set?\n",
        "\n",
        "- We use stratified k-fold cross-validation  which ensures that each fold has the same proportion of defaulters as the overall dataset."
      ]
    },
    {
      "cell_type": "code",
      "execution_count": 34,
      "metadata": {},
      "outputs": [
        {
          "name": "stdout",
          "output_type": "stream",
          "text": [
            "Ready for modeling.\n",
            "Shape of feature matrix X: (68654, 40)\n",
            "Shape of target vector y: (68654,)\n"
          ]
        }
      ],
      "source": [
        "# --- Define Final Features for Modeling ---\n",
        "\n",
        "# Correctly define the columns to remove from our feature set\n",
        "# These are identifiers or the target variable itself\n",
        "cols_to_remove = [\n",
        "    'ID', \n",
        "    'target', \n",
        "    'customer_id', \n",
        "    'tbl_loan_id', \n",
        "    'lender_id'\n",
        "]\n",
        "\n",
        "# Create the final list of feature names\n",
        "final_features = [col for col in final_train_df.columns if col not in cols_to_remove]\n",
        "\n",
        "# Create our feature matrix (X) and target vector (y)\n",
        "X = final_train_df[final_features]\n",
        "y = final_train_df['target']\n",
        "\n",
        "print(f\"Ready for modeling.\")\n",
        "print(f\"Shape of feature matrix X: {X.shape}\")\n",
        "print(f\"Shape of target vector y: {y.shape}\")"
      ]
    },
    {
      "cell_type": "markdown",
      "metadata": {},
      "source": [
        "## Baseline Model Training with Cross-Validation\n",
        "**Business Question:** \"Using a simple, standard model, what is the initial F1-score we can achieve on this problem? This will be our baseline to beat.\""
      ]
    },
    {
      "cell_type": "code",
      "execution_count": 36,
      "metadata": {},
      "outputs": [
        {
          "name": "stdout",
          "output_type": "stream",
          "text": [
            "--- Training Fold 1 ---\n",
            "F1 Score for Fold 1: 0.2293\n",
            "--- Training Fold 2 ---\n",
            "F1 Score for Fold 2: 0.2275\n",
            "--- Training Fold 3 ---\n",
            "F1 Score for Fold 3: 0.2265\n",
            "--- Training Fold 4 ---\n",
            "F1 Score for Fold 4: 0.2194\n",
            "--- Training Fold 5 ---\n",
            "F1 Score for Fold 5: 0.2249\n"
          ]
        }
      ],
      "source": [
        "from sklearn.model_selection import StratifiedKFold\n",
        "from sklearn.linear_model import LogisticRegression\n",
        "from sklearn.metrics import f1_score\n",
        "from sklearn.preprocessing import StandardScaler\n",
        "import numpy as np\n",
        "\n",
        "# --- Baseline Modeling with Cross-Validation ---\n",
        "\n",
        "# Set up the StratifiedKFold\n",
        "N_SPLITS = 5\n",
        "skf = StratifiedKFold(n_splits=N_SPLITS, shuffle=True, random_state=42)\n",
        "\n",
        "# Create an empty list to store the F1 scores from each fold\n",
        "f1_scores = []\n",
        "\n",
        "# Start the cross-validation loop\n",
        "for fold, (train_idx, val_idx) in enumerate(skf.split(X, y)):\n",
        "    print(f\"--- Training Fold {fold+1} ---\")\n",
        "    \n",
        "    # Split data for this fold\n",
        "    X_train, y_train = X.iloc[train_idx], y.iloc[train_idx]\n",
        "    X_val, y_val = X.iloc[val_idx], y.iloc[val_idx]\n",
        "    \n",
        "    # Scale features\n",
        "    scaler = StandardScaler()\n",
        "    X_train_scaled = scaler.fit_transform(X_train)\n",
        "    X_val_scaled = scaler.transform(X_val)\n",
        "    \n",
        "    # Train the model\n",
        "    model = LogisticRegression(class_weight='balanced', random_state=42, max_iter=1000)\n",
        "    model.fit(X_train_scaled, y_train)\n",
        "    \n",
        "    # Make predictions and evaluate\n",
        "    preds = model.predict(X_val_scaled)\n",
        "    fold_f1 = f1_score(y_val, preds)\n",
        "    f1_scores.append(fold_f1)\n",
        "    \n",
        "    print(f\"F1 Score for Fold {fold+1}: {fold_f1:.4f}\")"
      ]
    },
    {
      "cell_type": "code",
      "execution_count": 37,
      "metadata": {},
      "outputs": [
        {
          "name": "stdout",
          "output_type": "stream",
          "text": [
            "Average F1 Score across 5 folds: 0.2255\n",
            "Standard Deviation of F1 Scores: 0.0034\n"
          ]
        }
      ],
      "source": [
        "# --- Display Final Cross-Validation Results ---\n",
        "\n",
        "print(f\"Average F1 Score across {N_SPLITS} folds: {np.mean(f1_scores):.4f}\")\n",
        "print(f\"Standard Deviation of F1 Scores: {np.std(f1_scores):.4f}\")"
      ]
    },
    {
      "cell_type": "markdown",
      "metadata": {},
      "source": [
        "### ***Analysis of the baseline model:***\n",
        "- Average F1-score of 0.2255. This is the score to beat. Our new goal is to improve upon this. \n",
        "- Standard deviation of 0.0034 - a low standard deviation is a good sign . it means that the model's performance was very consistent across all 5 folds on the data. This gives us confidence that the baseline's score was stable and a reliable measure of this model's performance."
      ]
    },
    {
      "cell_type": "markdown",
      "metadata": {},
      "source": [
        "# TEST prediction and submission\n",
        "- To get the best possible submission file for the competition, we train our model on the entire training dataset and then make predictions on the test set. "
      ]
    },
    {
      "cell_type": "code",
      "execution_count": 38,
      "metadata": {},
      "outputs": [
        {
          "name": "stdout",
          "output_type": "stream",
          "text": [
            "Training the final Logistic Regression model...\n",
            "Model training complete.\n",
            "Making predictions on the test set...\n",
            "\n",
            "File 'logistic_regression_submission.csv' has been created.\n",
            "Submission file head:\n",
            "                          ID  target\n",
            "68654  ID_269404226088267278     1.0\n",
            "68655  ID_255356300042267278     0.0\n",
            "68656  ID_257026243764267278     0.0\n",
            "68657  ID_264617299409267278     0.0\n",
            "68658  ID_247613296713267278     0.0\n"
          ]
        }
      ],
      "source": [
        "from sklearn.linear_model import LogisticRegression\n",
        "from sklearn.preprocessing import StandardScaler\n",
        "\n",
        "# --- CREATE SUBMISSION FILE FOR TEST SET ---\n",
        "\n",
        "# Step 1: Define the full training set (X, y) and the final test set\n",
        "X_train_full = final_train_df[final_features]\n",
        "y_train_full = final_train_df['target']\n",
        "X_test = final_test_df[final_features]\n",
        "\n",
        "# Ensure the columns in the test set match the training set exactly\n",
        "X_test = X_test[X_train_full.columns]\n",
        "\n",
        "\n",
        "# Step 2: Scale the data\n",
        "# IMPORTANT: Fit the scaler on the FULL training data\n",
        "scaler = StandardScaler()\n",
        "X_train_full_scaled = scaler.fit_transform(X_train_full)\n",
        "X_test_scaled = scaler.transform(X_test)\n",
        "\n",
        "\n",
        "# Step 3: Train the final model on ALL available training data\n",
        "print(\"Training the final Logistic Regression model...\")\n",
        "final_baseline_model = LogisticRegression(class_weight='balanced', random_state=42, max_iter=1000)\n",
        "final_baseline_model.fit(X_train_full_scaled, y_train_full)\n",
        "print(\"Model training complete.\")\n",
        "\n",
        "\n",
        "# Step 4: Make predictions on the scaled test data\n",
        "print(\"Making predictions on the test set...\")\n",
        "test_set_predictions = final_baseline_model.predict(X_test_scaled)\n",
        "\n",
        "\n",
        "# Step 5: Create and save the submission file\n",
        "submission_df = pd.DataFrame({\n",
        "    'ID': final_test_df['ID'], \n",
        "    'target': test_set_predictions\n",
        "})\n",
        "\n",
        "submission_df.to_csv('logistic_regression_submission.csv', index=False)\n",
        "\n",
        "print(\"\\nFile 'logistic_regression_submission.csv' has been created.\")\n",
        "print(\"Submission file head:\")\n",
        "print(submission_df.head())"
      ]
    },
    {
      "cell_type": "markdown",
      "metadata": {},
      "source": [
        "## RANDOM FOREST CLASSIFIER"
      ]
    },
    {
      "cell_type": "code",
      "execution_count": 39,
      "metadata": {},
      "outputs": [
        {
          "name": "stdout",
          "output_type": "stream",
          "text": [
            "\n",
            "--- Training Fold 1 ---\n",
            "F1 Score for Fold 1: 0.5668\n",
            "\n",
            "--- Training Fold 2 ---\n",
            "F1 Score for Fold 2: 0.5628\n",
            "\n",
            "--- Training Fold 3 ---\n",
            "F1 Score for Fold 3: 0.5565\n",
            "\n",
            "--- Training Fold 4 ---\n",
            "F1 Score for Fold 4: 0.5942\n",
            "\n",
            "--- Training Fold 5 ---\n",
            "F1 Score for Fold 5: 0.5770\n",
            "\n",
            "------------------------------------\n",
            "Average F1 Score (Random Forest) across 5 folds: 0.5715\n",
            "Standard Deviation of F1 Scores (Random Forest): 0.0132\n"
          ]
        }
      ],
      "source": [
        "from sklearn.model_selection import StratifiedKFold\n",
        "from sklearn.ensemble import RandomForestClassifier # Import the Random Forest model\n",
        "from sklearn.metrics import f1_score\n",
        "import numpy as np\n",
        "\n",
        "# --- RANDOM FOREST MODELING WITH CROSS-VALIDATION ---\n",
        "\n",
        "# We will use the same X and y dataframes defined in Step 9.1\n",
        "\n",
        "# Set up the Cross-Validation loop\n",
        "N_SPLITS = 5\n",
        "skf = StratifiedKFold(n_splits=N_SPLITS, shuffle=True, random_state=42)\n",
        "\n",
        "# Create a new list to store the F1 scores for this model\n",
        "rf_f1_scores = []\n",
        "\n",
        "for fold, (train_idx, val_idx) in enumerate(skf.split(X, y)):\n",
        "    print(f\"\\n--- Training Fold {fold+1} ---\")\n",
        "    \n",
        "    # Split data for this fold\n",
        "    X_train, y_train = X.iloc[train_idx], y.iloc[train_idx]\n",
        "    X_val, y_val = X.iloc[val_idx], y.iloc[val_idx]\n",
        "    \n",
        "    # --- Model Training ---\n",
        "    # We use class_weight='balanced' to handle the imbalanced data.\n",
        "    # n_jobs=-1 tells the model to use all available CPU cores to speed up training.\n",
        "    model = RandomForestClassifier(class_weight='balanced', random_state=42, n_jobs=-1)\n",
        "    \n",
        "    model.fit(X_train, y_train)\n",
        "    \n",
        "    # --- Prediction & Evaluation ---\n",
        "    preds = model.predict(X_val)\n",
        "    fold_f1 = f1_score(y_val, preds)\n",
        "    rf_f1_scores.append(fold_f1)\n",
        "    \n",
        "    print(f\"F1 Score for Fold {fold+1}: {fold_f1:.4f}\")\n",
        "\n",
        "# --- Final Result ---\n",
        "print(\"\\n------------------------------------\")\n",
        "print(f\"Average F1 Score (Random Forest) across {N_SPLITS} folds: {np.mean(rf_f1_scores):.4f}\")\n",
        "print(\"Standard Deviation of F1 Scores (Random Forest): \" f\"{np.std(rf_f1_scores):.4f}\")"
      ]
    },
    {
      "cell_type": "markdown",
      "metadata": {},
      "source": [
        "### ***Analysis of Random Forest Results***\n",
        "**Average F1 Score: 0.5715:** This is a massive leap from our Logistic Regression baseline of 0.2255. You have more than doubled the performance of the model. This is a clear and powerful demonstration of the value of using a more complex algorithm. The non-linear patterns that Random Forest can capture are clearly very important in this dataset.\n",
        "\n",
        "**Standard Deviation of Scores: 0.0132:** Again, this is a beautifully low number. It shows that this high performance is stable and consistent across all folds of the data. We can be confident that this score is a true reflection of the model's capability."
      ]
    },
    {
      "cell_type": "code",
      "execution_count": 40,
      "metadata": {},
      "outputs": [
        {
          "name": "stdout",
          "output_type": "stream",
          "text": [
            "Training the final Random Forest model on all training data...\n",
            "Model training complete.\n",
            "Making predictions on the test set...\n",
            "\n",
            "File 'random_forest_submission.csv' has been created.\n",
            "Submission file head:\n",
            "                          ID  target\n",
            "68654  ID_269404226088267278     0.0\n",
            "68655  ID_255356300042267278     0.0\n",
            "68656  ID_257026243764267278     0.0\n",
            "68657  ID_264617299409267278     0.0\n",
            "68658  ID_247613296713267278     0.0\n"
          ]
        }
      ],
      "source": [
        "from sklearn.ensemble import RandomForestClassifier\n",
        "\n",
        "# --- CREATE RANDOM FOREST SUBMISSION FILE ---\n",
        "\n",
        "# Step 12.1: Define the full training set (X, y) and the final test set\n",
        "# We use the same 'final_features', 'final_train_df', and 'final_test_df' from before\n",
        "X_train_full = final_train_df[final_features]\n",
        "y_train_full = final_train_df['target']\n",
        "X_test = final_test_df[final_features]\n",
        "\n",
        "# Align columns to ensure they match perfectly\n",
        "X_test = X_test[X_train_full.columns]\n",
        "\n",
        "\n",
        "# Step 12.2: Train the final Random Forest model on ALL training data\n",
        "print(\"Training the final Random Forest model on all training data...\")\n",
        "final_rf_model = RandomForestClassifier(class_weight='balanced', random_state=42, n_jobs=-1)\n",
        "final_rf_model.fit(X_train_full, y_train_full)\n",
        "print(\"Model training complete.\")\n",
        "\n",
        "\n",
        "# Step 12.3: Make predictions on the test data\n",
        "print(\"Making predictions on the test set...\")\n",
        "test_set_predictions = final_rf_model.predict(X_test)\n",
        "\n",
        "\n",
        "# Step 12.4: Create and save the submission file\n",
        "submission_df = pd.DataFrame({\n",
        "    'ID': final_test_df['ID'], \n",
        "    'target': test_set_predictions\n",
        "})\n",
        "\n",
        "submission_df.to_csv('random_forest_submission.csv', index=False)\n",
        "\n",
        "print(\"\\nFile 'random_forest_submission.csv' has been created.\")\n",
        "print(\"Submission file head:\")\n",
        "print(submission_df.head())"
      ]
    },
    {
      "cell_type": "markdown",
      "metadata": {},
      "source": [
        "### **Training a Powerful Gradient Booster - XGBoost**\n",
        "- The Business Question: \"Can an industry-standard gradient boosting model like XGBoost, known for its high performance, improve our F1-score and potentially generalize better than the Random Forest model?\"\n",
        "XGBoost is famous in the data science community for its power and flexibility. "
      ]
    },
    {
      "cell_type": "code",
      "execution_count": 44,
      "metadata": {},
      "outputs": [
        {
          "name": "stdout",
          "output_type": "stream",
          "text": [
            "\n",
            "--- Training Fold 1 ---\n",
            "F1 Score for Fold 1: 0.7818\n",
            "\n",
            "--- Training Fold 2 ---\n",
            "F1 Score for Fold 2: 0.7570\n",
            "\n",
            "--- Training Fold 3 ---\n",
            "F1 Score for Fold 3: 0.7563\n",
            "\n",
            "--- Training Fold 4 ---\n",
            "F1 Score for Fold 4: 0.7690\n",
            "\n",
            "--- Training Fold 5 ---\n",
            "F1 Score for Fold 5: 0.7729\n",
            "\n",
            "------------------------------------\n",
            "Average F1 Score (XGBoost) across 5 folds: 0.7674\n",
            "Standard Deviation of F1 Scores (XGBoost): 0.0097\n"
          ]
        }
      ],
      "source": [
        "from sklearn.model_selection import StratifiedKFold\n",
        "from xgboost import XGBClassifier # Import the XGBoost model\n",
        "from sklearn.metrics import f1_score\n",
        "import numpy as np\n",
        "import warnings\n",
        "warnings.filterwarnings('ignore') \n",
        "\n",
        "# --- XGBOOST MODELING WITH CROSS-VALIDATION ---\n",
        "\n",
        "# We will use the same X and y dataframes defined in Step 9.1\n",
        "\n",
        "# Set up the Cross-Validation loop\n",
        "N_SPLITS = 5\n",
        "skf = StratifiedKFold(n_splits=N_SPLITS, shuffle=True, random_state=42)\n",
        "\n",
        "# Create a new list to store the F1 scores\n",
        "xgb_f1_scores = []\n",
        "\n",
        "for fold, (train_idx, val_idx) in enumerate(skf.split(X, y)):\n",
        "    print(f\"\\n--- Training Fold {fold+1} ---\")\n",
        "    \n",
        "    # Split data for this fold\n",
        "    X_train, y_train = X.iloc[train_idx], y.iloc[train_idx]\n",
        "    X_val, y_val = X.iloc[val_idx], y.iloc[val_idx]\n",
        "    \n",
        "    # --- Model Training ---\n",
        "    # XGBoost also uses 'scale_pos_weight' for class imbalance.\n",
        "    ratio = y_train.value_counts()[0] / y_train.value_counts()[1]\n",
        "\n",
        "    model = XGBClassifier(scale_pos_weight=ratio, random_state=42, eval_metric='logloss', verbosity=0)\n",
        "\n",
        "    model.fit(X_train, y_train)\n",
        "    \n",
        "    # --- Prediction & Evaluation ---\n",
        "    preds = model.predict(X_val)\n",
        "    fold_f1 = f1_score(y_val, preds)\n",
        "    xgb_f1_scores.append(fold_f1)\n",
        "    \n",
        "    print(f\"F1 Score for Fold {fold+1}: {fold_f1:.4f}\")\n",
        "\n",
        "# --- Final Result ---\n",
        "print(\"\\n------------------------------------\")\n",
        "print(f\"Average F1 Score (XGBoost) across {N_SPLITS} folds: {np.mean(xgb_f1_scores):.4f}\")\n",
        "print(\"Standard Deviation of F1 Scores (XGBoost): \" f\"{np.std(xgb_f1_scores):.4f}\")"
      ]
    },
    {
      "cell_type": "markdown",
      "metadata": {},
      "source": [
        "### **Analysis of Your XGBoost Results**\n",
        "**Average F1 Score: 0.7674:** This is a phenomenal improvement. You jumped from 0.572 with Random Forest to 0.767. This is a clear demonstration that the sequential error-correcting approach of gradient boosting is far superior for this problem. You are now in a very high-performance tier.\n",
        "\n",
        "**Standard Deviation of Scores: 0.0097:** Once again, a very low and stable standard deviation. This gives us high confidence that this score is real and not a fluke. Your process is working perfectly."
      ]
    },
    {
      "cell_type": "code",
      "execution_count": 45,
      "metadata": {},
      "outputs": [
        {
          "name": "stdout",
          "output_type": "stream",
          "text": [
            "Training the final XGBoost model on all training data...\n",
            "Model training complete.\n",
            "Making predictions on the test set...\n",
            "\n",
            "File 'xgboost_submission.csv' has been created.\n",
            "Submission file head:\n",
            "                          ID  target\n",
            "68654  ID_269404226088267278     0.0\n",
            "68655  ID_255356300042267278     0.0\n",
            "68656  ID_257026243764267278     0.0\n",
            "68657  ID_264617299409267278     0.0\n",
            "68658  ID_247613296713267278     0.0\n"
          ]
        }
      ],
      "source": [
        "# Step 14.1: Define the full training and test sets\n",
        "X_train_full = final_train_df[final_features]\n",
        "y_train_full = final_train_df['target']\n",
        "X_test = final_test_df[final_features]\n",
        "\n",
        "# Align columns\n",
        "X_test = X_test[X_train_full.columns]\n",
        "\n",
        "# Step 14.2: Train the final XGBoost model on ALL training data\n",
        "print(\"Training the final XGBoost model on all training data...\")\n",
        "ratio = y_train_full.value_counts()[0] / y_train_full.value_counts()[1]\n",
        "final_xgb_model = XGBClassifier(scale_pos_weight=ratio, random_state=42, use_label_encoder=False, eval_metric='logloss')\n",
        "\n",
        "final_xgb_model.fit(X_train_full, y_train_full)\n",
        "print(\"Model training complete.\")\n",
        "\n",
        "# Step 14.3: Make predictions on the test data\n",
        "print(\"Making predictions on the test set...\")\n",
        "test_set_predictions = final_xgb_model.predict(X_test)\n",
        "\n",
        "# Step 14.4: Create and save the submission file\n",
        "submission_df = pd.DataFrame({\n",
        "    'ID': final_test_df['ID'], \n",
        "    'target': test_set_predictions\n",
        "})\n",
        "\n",
        "submission_df.to_csv('xgboost_submission.csv', index=False)\n",
        "\n",
        "print(\"\\nFile 'xgboost_submission.csv' has been created.\")\n",
        "print(\"Submission file head:\")\n",
        "print(submission_df.head())"
      ]
    },
    {
      "cell_type": "markdown",
      "metadata": {},
      "source": [
        "## **LIGHTGBM**\n",
        "- The Business Question: \"Can a different gradient boosting implementation like LightGBM, known for its speed and efficiency, match or even exceed the high performance of XGBoost?\"\n",
        "- This is a classic head-to-head comparison in data science competitions. Sometimes LightGBM's unique way of growing trees (leaf-wise) allows it to find patterns that XGBoost might miss."
      ]
    },
    {
      "cell_type": "code",
      "execution_count": 48,
      "metadata": {},
      "outputs": [
        {
          "name": "stdout",
          "output_type": "stream",
          "text": [
            "\n",
            "--- Training Fold 1 ---\n",
            "F1 Score for Fold 1: 0.5947\n",
            "\n",
            "--- Training Fold 2 ---\n",
            "F1 Score for Fold 2: 0.5851\n",
            "\n",
            "--- Training Fold 3 ---\n",
            "F1 Score for Fold 3: 0.6077\n",
            "\n",
            "--- Training Fold 4 ---\n",
            "F1 Score for Fold 4: 0.6059\n",
            "\n",
            "--- Training Fold 5 ---\n",
            "F1 Score for Fold 5: 0.6097\n",
            "\n",
            "------------------------------------\n",
            "Average F1 Score (LightGBM) across 5 folds: 0.6006\n",
            "Standard Deviation of F1 Scores (LightGBM): 0.0093\n"
          ]
        }
      ],
      "source": [
        "from sklearn.model_selection import StratifiedKFold\n",
        "from lightgbm import LGBMClassifier # Import the LightGBM model\n",
        "from sklearn.metrics import f1_score\n",
        "import numpy as np\n",
        "\n",
        "# --- LIGHTGBM MODELING WITH CROSS-VALIDATION ---\n",
        "\n",
        "# We will use the same X and y dataframes defined in Step 9.1\n",
        "\n",
        "# Set up the Cross-Validation loop\n",
        "N_SPLITS = 5\n",
        "skf = StratifiedKFold(n_splits=N_SPLITS, shuffle=True, random_state=42)\n",
        "\n",
        "# Create a new list to store the F1 scores\n",
        "lgbm_f1_scores = []\n",
        "\n",
        "for fold, (train_idx, val_idx) in enumerate(skf.split(X, y)):\n",
        "    print(f\"\\n--- Training Fold {fold+1} ---\")\n",
        "    \n",
        "    # Split data for this fold\n",
        "    X_train, y_train = X.iloc[train_idx], y.iloc[train_idx]\n",
        "    X_val, y_val = X.iloc[val_idx], y.iloc[val_idx]\n",
        "    \n",
        "    # --- Model Training ---\n",
        "    # LightGBM also uses 'scale_pos_weight' for class imbalance.\n",
        "    ratio = y_train.value_counts()[0] / y_train.value_counts()[1]\n",
        "    \n",
        "    # We add verbosity=-1 to keep the output clean\n",
        "    model = LGBMClassifier(scale_pos_weight=ratio, random_state=42, verbosity=-1)\n",
        "    \n",
        "    model.fit(X_train, y_train)\n",
        "    \n",
        "    # --- Prediction & Evaluation ---\n",
        "    preds = model.predict(X_val)\n",
        "    fold_f1 = f1_score(y_val, preds)\n",
        "    lgbm_f1_scores.append(fold_f1)\n",
        "    \n",
        "    print(f\"F1 Score for Fold {fold+1}: {fold_f1:.4f}\")\n",
        "\n",
        "# --- Final Result ---\n",
        "print(\"\\n------------------------------------\")\n",
        "print(f\"Average F1 Score (LightGBM) across {N_SPLITS} folds: {np.mean(lgbm_f1_scores):.4f}\")\n",
        "print(\"Standard Deviation of F1 Scores (LightGBM): \" f\"{np.std(lgbm_f1_scores):.4f}\")"
      ]
    },
    {
      "cell_type": "markdown",
      "metadata": {},
      "source": [
        "\n",
        "### **Analysis of Your LightGBM Results**\n",
        "\n",
        "- **Average F1 Score: 0.6006:** This is a very strong score, significantly outperforming our Random Forest baseline (0.572). This confirms that gradient boosting algorithms are the right class of models for this problem.\n",
        "    \n",
        "- **Comparison to XGBoost:** However, this score is noticeably lower than the 0.767 achieved by XGBoost with its default settings. In this specific case, for this dataset and feature set, XGBoost's default configuration and tree-building algorithm are proving to be superior.\n",
        "    \n",
        "- **Standard Deviation of Scores: 0.0093:** Another beautifully low and stable score. This confirms that our validation process is reliable and this performance level is consistent across the data.\n",
        "    \n",
        "\n",
        "**The Narrative So Far:**\n",
        "\n",
        "You have built a clear, evidence-based story. You started with a simple baseline, showed a massive improvement with a Random Forest, identified an overfitting issue with that model, and then demonstrated that XGBoost not only improved the score dramatically but also generalized better. You have now tested a second gradient booster, LightGBM, and found that while it is also a very strong model, XGBoost remains the clear performance leader on this specific problem."
      ]
    },
    {
      "cell_type": "code",
      "execution_count": 49,
      "metadata": {},
      "outputs": [
        {
          "name": "stdout",
          "output_type": "stream",
          "text": [
            "Training the final LightGBM model on all training data...\n",
            "Model training complete.\n",
            "Making predictions on the test set...\n",
            "\n",
            "File 'lightgbm_submission.csv' has been created.\n",
            "Submission file head:\n",
            "                          ID  target\n",
            "68654  ID_269404226088267278     0.0\n",
            "68655  ID_255356300042267278     0.0\n",
            "68656  ID_257026243764267278     0.0\n",
            "68657  ID_264617299409267278     0.0\n",
            "68658  ID_247613296713267278     0.0\n"
          ]
        }
      ],
      "source": [
        "from lightgbm import LGBMClassifier\n",
        "\n",
        "# --- CREATE LIGHTGBM SUBMISSION FILE ---\n",
        "\n",
        "# Step 16.1: Define the full training and test sets\n",
        "X_train_full = final_train_df[final_features]\n",
        "y_train_full = final_train_df['target']\n",
        "X_test = final_test_df[final_features]\n",
        "\n",
        "# Align columns\n",
        "X_test = X_test[X_train_full.columns]\n",
        "\n",
        "# Step 16.2: Train the final LightGBM model on ALL training data\n",
        "print(\"Training the final LightGBM model on all training data...\")\n",
        "ratio = y_train_full.value_counts()[0] / y_train_full.value_counts()[1]\n",
        "final_lgbm_model = LGBMClassifier(scale_pos_weight=ratio, random_state=42, verbosity=-1)\n",
        "\n",
        "final_lgbm_model.fit(X_train_full, y_train_full)\n",
        "print(\"Model training complete.\")\n",
        "\n",
        "# Step 16.3: Make predictions on the test data\n",
        "print(\"Making predictions on the test set...\")\n",
        "test_set_predictions = final_lgbm_model.predict(X_test)\n",
        "\n",
        "# Step 16.4: Create and save the submission file\n",
        "submission_df = pd.DataFrame({\n",
        "    'ID': final_test_df['ID'], \n",
        "    'target': test_set_predictions\n",
        "})\n",
        "\n",
        "submission_df.to_csv('lightgbm_submission.csv', index=False)\n",
        "\n",
        "print(\"\\nFile 'lightgbm_submission.csv' has been created.\")\n",
        "print(\"Submission file head:\")\n",
        "print(submission_df.head())"
      ]
    },
    {
      "cell_type": "markdown",
      "metadata": {},
      "source": [
        "# **CATBOOST**\n",
        "- The Business Question: \"Can a model specifically designed to handle categorical features, like CatBoost, outperform other gradient boosters by extracting more information from features like loan_type?\"\n",
        "CatBoost's main selling point is its sophisticated way of handling categorical data. This could be a significant advantage for our problem."
      ]
    },
    {
      "cell_type": "code",
      "execution_count": 53,
      "metadata": {},
      "outputs": [
        {
          "name": "stdout",
          "output_type": "stream",
          "text": [
            "Data prepared for CatBoost.\n",
            "Categorical features identified for the model: ['country_id', 'loan_type', 'New_versus_Repeat']\n"
          ]
        }
      ],
      "source": [
        "# --- PREPARE DATA FOR CATBOOST ---\n",
        "\n",
        "# Step 17.1: Split the pre-OHE dataframe back into train and test\n",
        "train_cat_df = data[data['source'] == 'train'].copy()\n",
        "test_cat_df = data[data['source'] == 'test'].copy()\n",
        "\n",
        "\n",
        "# Step 17.2: Define the feature list for the model\n",
        "# We remove identifiers and the target, but KEEP the original categorical columns\n",
        "cols_to_remove = [\n",
        "    'ID', \n",
        "    'target', \n",
        "    'customer_id', \n",
        "    'tbl_loan_id', \n",
        "    'lender_id',\n",
        "    'source'\n",
        "]\n",
        "catboost_features = [col for col in train_cat_df.columns if col not in cols_to_remove]\n",
        "\n",
        "\n",
        "# Step 17.3: Create our final X and y for this experiment\n",
        "X_cat = train_cat_df[catboost_features]\n",
        "y_cat = train_cat_df['target']\n",
        "\n",
        "# Automatically find the names of the categorical columns for the model\n",
        "categorical_features_for_model = X_cat.select_dtypes(include=['object']).columns.tolist()\n",
        "\n",
        "print(\"Data prepared for CatBoost.\")\n",
        "print(f\"Categorical features identified for the model: {categorical_features_for_model}\")\n"
      ]
    },
    {
      "cell_type": "code",
      "execution_count": 54,
      "metadata": {},
      "outputs": [
        {
          "name": "stdout",
          "output_type": "stream",
          "text": [
            "\n",
            "--- Training Fold 1 ---\n",
            "F1 Score for Fold 1: 0.7095\n",
            "\n",
            "--- Training Fold 2 ---\n",
            "F1 Score for Fold 2: 0.7157\n",
            "\n",
            "--- Training Fold 3 ---\n",
            "F1 Score for Fold 3: 0.7059\n",
            "\n",
            "--- Training Fold 4 ---\n",
            "F1 Score for Fold 4: 0.6868\n",
            "\n",
            "--- Training Fold 5 ---\n",
            "F1 Score for Fold 5: 0.7279\n",
            "\n",
            "------------------------------------\n",
            "Average F1 Score (CatBoost) across 5 folds: 0.7091\n",
            "Standard Deviation of F1 Scores (CatBoost): 0.0134\n"
          ]
        }
      ],
      "source": [
        "\n",
        "from sklearn.model_selection import StratifiedKFold\n",
        "from catboost import CatBoostClassifier\n",
        "from sklearn.metrics import f1_score\n",
        "import numpy as np\n",
        "\n",
        "# --- CATBOOST MODELING WITH CROSS-VALIDATION ---\n",
        "\n",
        "# Set up the Cross-Validation loop\n",
        "N_SPLITS = 5\n",
        "skf = StratifiedKFold(n_splits=N_SPLITS, shuffle=True, random_state=42)\n",
        "\n",
        "# Create a list to store the F1 scores\n",
        "cat_f1_scores = []\n",
        "\n",
        "for fold, (train_idx, val_idx) in enumerate(skf.split(X_cat, y_cat)):\n",
        "    print(f\"\\n--- Training Fold {fold+1} ---\")\n",
        "    \n",
        "    # Split data for this fold\n",
        "    X_train, y_train = X_cat.iloc[train_idx], y_cat.iloc[train_idx]\n",
        "    X_val, y_val = X_cat.iloc[val_idx], y_cat.iloc[val_idx]\n",
        "    \n",
        "    # --- Model Training ---\n",
        "    ratio = y_train.value_counts()[0] / y_train.value_counts()[1]\n",
        "    \n",
        "    model = CatBoostClassifier(scale_pos_weight=ratio, \n",
        "                               random_state=42, \n",
        "                               verbose=0, # Keeps the output clean\n",
        "                               cat_features=categorical_features_for_model) # Tell the model which columns are categorical\n",
        "    \n",
        "    model.fit(X_train, y_train)\n",
        "    \n",
        "    # --- Prediction & Evaluation ---\n",
        "    preds = model.predict(X_val)\n",
        "    fold_f1 = f1_score(y_val, preds)\n",
        "    cat_f1_scores.append(fold_f1)\n",
        "    \n",
        "    print(f\"F1 Score for Fold {fold+1}: {fold_f1:.4f}\")\n",
        "\n",
        "# --- Final Result ---\n",
        "print(\"\\n------------------------------------\")\n",
        "print(f\"Average F1 Score (CatBoost) across {N_SPLITS} folds: {np.mean(cat_f1_scores):.4f}\")\n",
        "print(\"Standard Deviation of F1 Scores (CatBoost): \" f\"{np.std(cat_f1_scores):.4f}\")"
      ]
    },
    {
      "cell_type": "markdown",
      "metadata": {},
      "source": [
        "### Analysis of Your CatBoost Results\n",
        "**Average F1 Score: 0.7091:** This is another very strong score. It soundly beats the Random Forest (0.572) and our initial baseline. This confirms that CatBoost is also a top-tier model for this problem.\n",
        "**Comparison to XGBoost:** The score is slightly lower than XGBoost's phenomenal 0.767. This suggests that, for this specific problem and feature set, XGBoost's core algorithm was slightly more effective than CatBoost's specialized categorical handling. However, in many other projects, you might find this result is flipped. This is why testing multiple models is so important.\n",
        "**Standard Deviation of Scores:** 0.0134: Another very stable and reliable result. Our process is sound."
      ]
    },
    {
      "cell_type": "code",
      "execution_count": 55,
      "metadata": {},
      "outputs": [
        {
          "name": "stdout",
          "output_type": "stream",
          "text": [
            "Training the final CatBoost model on all training data...\n",
            "Model training complete.\n",
            "Making predictions on the test set...\n",
            "\n",
            "File 'catboost_submission.csv' has been created.\n",
            "Submission file head:\n",
            "                          ID  target\n",
            "68654  ID_269404226088267278     0.0\n",
            "68655  ID_255356300042267278     0.0\n",
            "68656  ID_257026243764267278     0.0\n",
            "68657  ID_264617299409267278     0.0\n",
            "68658  ID_247613296713267278     0.0\n"
          ]
        }
      ],
      "source": [
        "from catboost import CatBoostClassifier\n",
        "\n",
        "# --- CREATE CATBOOST SUBMISSION FILE ---\n",
        "\n",
        "# Step 18.1: Define the full training and test sets using the pre-OHE data\n",
        "# We use the feature list and dataframes we created for the CatBoost CV loop\n",
        "X_train_full = train_cat_df[catboost_features]\n",
        "y_train_full = train_cat_df['target']\n",
        "X_test = test_cat_df[catboost_features]\n",
        "\n",
        "# We also need the list of categorical feature names again\n",
        "categorical_features_for_model = X_train_full.select_dtypes(include=['object']).columns.tolist()\n",
        "\n",
        "\n",
        "# Step 18.2: Train the final CatBoost model on ALL training data\n",
        "print(\"Training the final CatBoost model on all training data...\")\n",
        "ratio = y_train_full.value_counts()[0] / y_train_full.value_counts()[1]\n",
        "final_cat_model = CatBoostClassifier(scale_pos_weight=ratio, \n",
        "                                     random_state=42, \n",
        "                                     verbose=0,\n",
        "                                     cat_features=categorical_features_for_model)\n",
        "\n",
        "final_cat_model.fit(X_train_full, y_train_full)\n",
        "print(\"Model training complete.\")\n",
        "\n",
        "\n",
        "# Step 18.3: Make predictions on the test data\n",
        "print(\"Making predictions on the test set...\")\n",
        "test_set_predictions = final_cat_model.predict(X_test)\n",
        "\n",
        "\n",
        "# Step 18.4: Create and save the submission file\n",
        "submission_df = pd.DataFrame({\n",
        "    'ID': final_test_df['ID'], \n",
        "    'target': test_set_predictions\n",
        "})\n",
        "\n",
        "submission_df.to_csv('catboost_submission.csv', index=False)\n",
        "\n",
        "print(\"\\nFile 'catboost_submission.csv' has been created.\")\n",
        "print(\"Submission file head:\")\n",
        "print(submission_df.head())"
      ]
    },
    {
      "cell_type": "code",
      "execution_count": 24,
      "metadata": {},
      "outputs": [
        {
          "ename": "NameError",
          "evalue": "name 'gvbhnjkml' is not defined",
          "output_type": "error",
          "traceback": [
            "\u001b[1;31m---------------------------------------------------------------------------\u001b[0m",
            "\u001b[1;31mNameError\u001b[0m                                 Traceback (most recent call last)",
            "\u001b[1;32m<ipython-input-24-231487b4d0a5>\u001b[0m in \u001b[0;36m<module>\u001b[1;34m\u001b[0m\n\u001b[1;32m----> 1\u001b[1;33m \u001b[0mgvbhnjkml\u001b[0m\u001b[1;33m;\u001b[0m\u001b[0mmknio\u001b[0m\u001b[1;33m\u001b[0m\u001b[1;33m\u001b[0m\u001b[0m\n\u001b[0m",
            "\u001b[1;31mNameError\u001b[0m: name 'gvbhnjkml' is not defined"
          ]
        }
      ],
      "source": [
        "gvbhnjkml;mknio"
      ]
    },
    {
      "cell_type": "code",
      "execution_count": null,
      "metadata": {
        "colab": {
          "base_uri": "https://localhost:8080/",
          "height": 429
        },
        "id": "CvBZFCDB9yDp",
        "outputId": "b3e66c2e-b96e-46fc-9486-23de6a03330b"
      },
      "outputs": [
        {
          "data": {
            "image/png": "[encoded data removed]",
            "text/plain": [
              "<Figure size 1080x360 with 2 Axes>"
            ]
          },
          "metadata": {},
          "output_type": "display_data"
        }
      ],
      "source": [
        "plot_categorical(train, 'country_id')"
      ]
    },
    {
      "cell_type": "code",
      "execution_count": null,
      "metadata": {
        "colab": {
          "base_uri": "https://localhost:8080/",
          "height": 431
        },
        "id": "tkHc46MC9yDr",
        "outputId": "5f5647d2-cdd2-406b-e578-049f8fa60b9f"
      },
      "outputs": [
        {
          "data": {
            "image/png": "[encoded data removed]",
            "text/plain": [
              "<Figure size 1080x360 with 2 Axes>"
            ]
          },
          "metadata": {},
          "output_type": "display_data"
        }
      ],
      "source": [
        "plot_categorical(test, 'country_id')"
      ]
    },
    {
      "cell_type": "markdown",
      "metadata": {
        "id": "e6KZsi7C9yDs"
      },
      "source": [
        "##### This shows that test has a new country, ghana so one of the goals is to build a solution that can generalize well in new regions"
      ]
    },
    {
      "cell_type": "code",
      "execution_count": null,
      "metadata": {
        "colab": {
          "base_uri": "https://localhost:8080/",
          "height": 420
        },
        "id": "oBNBL-iE9yDt",
        "outputId": "c74c4abb-a888-435c-f5e5-f757cb9e5838"
      },
      "outputs": [
        {
          "data": {
            "image/png": "[encoded data removed]",
            "text/plain": [
              "<Figure size 1080x360 with 2 Axes>"
            ]
          },
          "metadata": {},
          "output_type": "display_data"
        }
      ],
      "source": [
        "plot_categorical(train, 'lender_id')"
      ]
    },
    {
      "cell_type": "markdown",
      "metadata": {
        "id": "InTIxxFY9yDu"
      },
      "source": [
        "##### You can exploree more of the categorical columns as well"
      ]
    },
    {
      "cell_type": "markdown",
      "metadata": {
        "id": "cxbIof5w9yDv"
      },
      "source": [
        "#### TARGET EXPLORATION\n"
      ]
    },
    {
      "cell_type": "code",
      "execution_count": null,
      "metadata": {
        "colab": {
          "base_uri": "https://localhost:8080/",
          "height": 427
        },
        "id": "fRY_YskV9yDv",
        "outputId": "ff65f4d1-da3c-433e-c974-90754125ccf0"
      },
      "outputs": [
        {
          "data": {
            "image/png": "[encoded data removed]",
            "text/plain": [
              "<Figure size 1080x360 with 2 Axes>"
            ]
          },
          "metadata": {},
          "output_type": "display_data"
        }
      ],
      "source": [
        "plot_categorical(train, 'target')"
      ]
    },
    {
      "cell_type": "markdown",
      "metadata": {
        "id": "tv2WRWv59yDw"
      },
      "source": [
        "##### You can see the dataset is highly imbalanced , and this is expected in loan default scenarios, So find  ways to deal with the  imbalance"
      ]
    },
    {
      "cell_type": "markdown",
      "metadata": {
        "id": "RXMEJ_j-9yDw"
      },
      "source": [
        "### CONTINUOUS COLUMN EXPLORATION"
      ]
    },
    {
      "cell_type": "code",
      "execution_count": null,
      "metadata": {
        "colab": {
          "base_uri": "https://localhost:8080/",
          "height": 1000
        },
        "id": "2AttBo4C9yDw",
        "outputId": "5320bd41-5fb6-40ec-c846-1261cb2c7ad6"
      },
      "outputs": [
        {
          "data": {
            "image/png": "[encoded data removed]",
            "text/plain": [
              "<Figure size 1080x1080 with 2 Axes>"
            ]
          },
          "metadata": {},
          "output_type": "display_data"
        }
      ],
      "source": [
        "plot_continuous(train, 'Total_Amount')"
      ]
    },
    {
      "cell_type": "markdown",
      "metadata": {
        "id": "cwK6jcu19yDx"
      },
      "source": [
        "Are those outliers?\n",
        "##### You can explore more of the given numerical columns as well"
      ]
    },
    {
      "cell_type": "code",
      "execution_count": null,
      "metadata": {},
      "outputs": [
        {
          "ename": "NameError",
          "evalue": "name 'nfuqowiefmqwionfmwoidio' is not defined",
          "output_type": "error",
          "traceback": [
            "\u001b[1;31m---------------------------------------------------------------------------\u001b[0m",
            "\u001b[1;31mNameError\u001b[0m                                 Traceback (most recent call last)",
            "\u001b[1;32m<ipython-input-147-e7ba4784cb0f>\u001b[0m in \u001b[0;36m<module>\u001b[1;34m\u001b[0m\n\u001b[1;32m----> 1\u001b[1;33m \u001b[0mnfuqowiefmqwionfmwoidio\u001b[0m\u001b[1;33m\u001b[0m\u001b[1;33m\u001b[0m\u001b[0m\n\u001b[0m",
            "\u001b[1;31mNameError\u001b[0m: name 'nfuqowiefmqwionfmwoidio' is not defined"
          ]
        }
      ],
      "source": [
        "nfuqowiefmqwionfmwoidio"
      ]
    },
    {
      "cell_type": "markdown",
      "metadata": {
        "id": "8KnFfQ679yDx"
      },
      "source": [
        "### Feature Engineering\n",
        "* So here we are going to concatenate both the train and test so that we can do the processing once instead of repeating for each"
      ]
    },
    {
      "cell_type": "code",
      "execution_count": null,
      "metadata": {
        "colab": {
          "base_uri": "https://localhost:8080/"
        },
        "id": "KJ0sgX3uti_u",
        "outputId": "a524986f-be6d-413f-9a92-fa67a081243c"
      },
      "outputs": [
        {
          "name": "stdout",
          "output_type": "stream",
          "text": [
            "The categorical columns are: Index(['ID', 'country_id', 'loan_type', 'New_versus_Repeat', 'source'], dtype='object').\n",
            "----------------------------------------------------------------------------------------------------\n",
            "The numerical columns are: ['customer_id', 'tbl_loan_id', 'lender_id', 'Total_Amount', 'Total_Amount_to_Repay', 'duration', 'Amount_Funded_By_Lender', 'Lender_portion_Funded', 'Lender_portion_to_be_repaid', 'disbursement_date_month', 'disbursement_date_day', 'disbursement_date_year', 'due_date_month', 'due_date_day', 'due_date_year']\n",
            "----------------------------------------------------------------------------------------------------\n",
            "The shape of train_df is: (68654, 46)\n",
            "The shape of test_df is: (18594, 46)\n",
            "The shape of train is: (68654, 17)\n",
            "The shape of test is: (18594, 16)\n",
            "The features for modelling are:\n",
            "['customer_id', 'tbl_loan_id', 'lender_id', 'Total_Amount', 'Total_Amount_to_Repay', 'duration', 'New_versus_Repeat', 'Amount_Funded_By_Lender', 'Lender_portion_Funded', 'Lender_portion_to_be_repaid', 'source', 'disbursement_date_month', 'disbursement_date_day', 'disbursement_date_year', 'due_date_month', 'due_date_day', 'due_date_year', 'loan_type_Type_1', 'loan_type_Type_10', 'loan_type_Type_11', 'loan_type_Type_12', 'loan_type_Type_13', 'loan_type_Type_14', 'loan_type_Type_15', 'loan_type_Type_16', 'loan_type_Type_17', 'loan_type_Type_18', 'loan_type_Type_19', 'loan_type_Type_2', 'loan_type_Type_20', 'loan_type_Type_21', 'loan_type_Type_22', 'loan_type_Type_23', 'loan_type_Type_24', 'loan_type_Type_3', 'loan_type_Type_4', 'loan_type_Type_5', 'loan_type_Type_6', 'loan_type_Type_7', 'loan_type_Type_8', 'loan_type_Type_9']\n"
          ]
        }
      ],
      "source": [
        "data = pd.concat([train, test]).reset_index(drop=True)\n",
        "\n",
        "# Convert the datetime columns appropriately\n",
        "date_cols = ['disbursement_date', 'due_date']\n",
        "for col in date_cols:\n",
        "    data[col] = pd.to_datetime(data[col])\n",
        "    # Extract month, day, and year from the date columns\n",
        "    data[col+'_month'] = data[col].dt.month\n",
        "    data[col+'_day'] = data[col].dt.day\n",
        "    data[col+'_year'] = data[col].dt.year\n",
        "\n",
        "# Select all categorical columns from the dataset and label encode them or one hot encode\n",
        "cat_cols = data.select_dtypes(include='object').columns\n",
        "num_cols = [col for col in data.select_dtypes(include='number').columns if col not in ['target']]\n",
        "print(f\"The categorical columns are: {cat_cols}.\")\n",
        "print(\"-\"* 100)\n",
        "print(f\"The numerical columns are: {num_cols}\")\n",
        "print(\"-\"* 100)\n",
        "# we are going to one  hot encode the loan type\n",
        "data = pd.get_dummies(data, columns=['loan_type'], prefix='loan_type', drop_first=False)\n",
        "# Convert all the columns with prefix loan_type_ to 0/1 instead of False/True\n",
        "loan_type_cols = [col for col in data.columns if col.startswith('loan_type_')]\n",
        "data[loan_type_cols] = data[loan_type_cols].astype(int)\n",
        "\n",
        "# Label-encoding for the other remaining categorical columns\n",
        "le = LabelEncoder()\n",
        "for col in [col for col in cat_cols if col not in ['loan_type', 'ID']]:\n",
        "    data[col] = le.fit_transform(data[col])\n",
        "\n",
        "\n",
        "# deal with numerical columns: we saw loan amount is  highly right skewed for this we can log transform it\n",
        "data['Total_Amount'] = np.log1p(data['Total_Amount']) # study other numerical columns and see if they are skewed as well\n",
        "\n",
        "# Splitting the data back into train and test\n",
        "train_df = data[data['ID'].isin(train['ID'].unique())]\n",
        "\n",
        "test_df = data[data['ID'].isin(test['ID'].unique())]\n",
        "\n",
        "# we are also going to drop the country id as we saw we have only one country in train\n",
        "features_for_modelling = [col for col in train_df.columns if col not in date_cols + ['ID', 'target', 'country_id']]\n",
        "\n",
        "# Check if the new datasets have the same rows as train and test datasets\n",
        "print(f\"The shape of train_df is: {train_df.shape}\")\n",
        "print(f\"The shape of test_df is: {test_df.shape}\")\n",
        "print(f\"The shape of train is: {train.shape}\")\n",
        "print(f\"The shape of test is: {test.shape}\")\n",
        "print(f\"The features for modelling are:\\n{features_for_modelling}\")\n"
      ]
    },
    {
      "cell_type": "markdown",
      "metadata": {
        "id": "6DSpwlQP9yD2"
      },
      "source": [
        "### CROSS VALIDATION\n",
        "* Here we are going to use a simple train test split but due to the imbalance try other robust methods like StratifiedKFold\n"
      ]
    },
    {
      "cell_type": "code",
      "execution_count": null,
      "metadata": {
        "colab": {
          "base_uri": "https://localhost:8080/"
        },
        "id": "nwX_NRfbAbDq",
        "outputId": "54a5538b-2219-498c-b8c8-6b42e38f2edd"
      },
      "outputs": [
        {
          "name": "stdout",
          "output_type": "stream",
          "text": [
            "(51490, 41) (17164, 41) (51490,) (17164,)\n"
          ]
        }
      ],
      "source": [
        "from sklearn.model_selection import train_test_split\n",
        "X_train, X_valid, y_train, y_valid = train_test_split(train_df[features_for_modelling], train['target'], stratify=train['target'], shuffle=True, random_state=42)\n",
        "print(X_train.shape, X_valid.shape, y_train.shape, y_valid.shape)"
      ]
    },
    {
      "cell_type": "markdown",
      "metadata": {
        "id": "f5CHOKoi0tG0"
      },
      "source": [
        "## Initialisation & Model Training"
      ]
    },
    {
      "cell_type": "code",
      "execution_count": null,
      "metadata": {
        "colab": {
          "base_uri": "https://localhost:8080/",
          "height": 698
        },
        "id": "BHh2jDjc7wPQ",
        "outputId": "ff5cba25-6860-4b41-de48-1cc6a94bb00e"
      },
      "outputs": [
        {
          "name": "stdout",
          "output_type": "stream",
          "text": [
            "F1 Score: 0.2616\n",
            "ROC AUC Score: 0.9285\n",
            "\n",
            "Classification Report:\n",
            "               precision    recall  f1-score   support\n",
            "\n",
            "           0       1.00      0.92      0.96     16849\n",
            "           1       0.16      0.80      0.26       315\n",
            "\n",
            "    accuracy                           0.92     17164\n",
            "   macro avg       0.58      0.86      0.61     17164\n",
            "weighted avg       0.98      0.92      0.94     17164\n",
            "\n"
          ]
        },
        {
          "data": {
            "image/png": "[encoded data removed]",
            "text/plain": [
              "<Figure size 432x288 with 2 Axes>"
            ]
          },
          "metadata": {},
          "output_type": "display_data"
        }
      ],
      "source": [
        "\n",
        "# Standard Scaling\n",
        "scaler = StandardScaler()\n",
        "X_train_scaled = scaler.fit_transform(X_train)\n",
        "X_valid_scaled = scaler.transform(X_valid)\n",
        "\n",
        "# Logistic Regression Classifier\n",
        "clf = LogisticRegression(\n",
        "    random_state=42,\n",
        "    class_weight=\"balanced\",  # Handle class imbalance\n",
        ")\n",
        "clf.fit(X_train_scaled, y_train)\n",
        "\n",
        "# Predictions\n",
        "y_pred = clf.predict(X_valid_scaled)\n",
        "y_pred_proba = clf.predict_proba(X_valid_scaled)[:, 1]\n",
        "\n",
        "# Evaluation Metrics\n",
        "f1 = f1_score(y_valid, y_pred)\n",
        "roc_auc = roc_auc_score(y_valid, y_pred_proba)\n",
        "\n",
        "print(f\"F1 Score: {f1:.4f}\")\n",
        "print(f\"ROC AUC Score: {roc_auc:.4f}\")\n",
        "print(\"\\nClassification Report:\\n\", classification_report(y_valid, y_pred))\n",
        "\n",
        "# Confusion Matrix\n",
        "# Confusion Matrix Visualization\n",
        "ConfusionMatrixDisplay.from_predictions(\n",
        "    y_valid,\n",
        "    y_pred,\n",
        "    display_labels=clf.classes_,\n",
        "    cmap=plt.cm.Blues\n",
        ")\n",
        "plt.title(\"Confusion Matrix\")\n",
        "plt.show()\n"
      ]
    },
    {
      "cell_type": "markdown",
      "metadata": {
        "id": "R8s6-hmZ9yD7"
      },
      "source": [
        "### FEATURE IMPORTANCE"
      ]
    },
    {
      "cell_type": "code",
      "execution_count": null,
      "metadata": {
        "colab": {
          "base_uri": "https://localhost:8080/",
          "height": 718
        },
        "id": "ddDFL2N49yD8",
        "outputId": "0bff1ab2-c586-4f0e-98c4-2f296e20fb10"
      },
      "outputs": [
        {
          "data": {
            "image/png": "[encoded data removed]",
            "text/plain": [
              "<Figure size 720x576 with 1 Axes>"
            ]
          },
          "metadata": {},
          "output_type": "display_data"
        }
      ],
      "source": [
        "# Feature Importance\n",
        "\n",
        "# Get the absolute values of the coefficients\n",
        "feature_importances = np.abs(clf.coef_).flatten()\n",
        "\n",
        "# Create a DataFrame for feature importance\n",
        "importance_df = pd.DataFrame({\n",
        "    'Feature': features_for_modelling,\n",
        "    'Importance': feature_importances\n",
        "})\n",
        "\n",
        "# Sort by importance\n",
        "importance_df = importance_df.sort_values(by='Importance', ascending=False).head(20)\n",
        "\n",
        "# Plot the top 20 feature importances\n",
        "plt.figure(figsize=(10, 8))\n",
        "plt.barh(importance_df['Feature'], importance_df['Importance'], color='skyblue')\n",
        "plt.gca().invert_yaxis()  # To display the most important feature at the top\n",
        "plt.xlabel('Feature Importance')\n",
        "plt.title('Top 20 Feature Importances')\n",
        "plt.show()"
      ]
    },
    {
      "cell_type": "markdown",
      "metadata": {
        "id": "28MmdSCq0zre"
      },
      "source": [
        "## Model Prediction & Inference"
      ]
    },
    {
      "cell_type": "code",
      "execution_count": null,
      "metadata": {
        "colab": {
          "base_uri": "https://localhost:8080/",
          "height": 206
        },
        "id": "pm6VoIQM8VKE",
        "outputId": "801e48b9-9f12-4a83-cf1e-5d230ae4db6a"
      },
      "outputs": [
        {
          "data": {
            "text/html": [
              "<div>\n",
              "<style scoped>\n",
              "    .dataframe tbody tr th:only-of-type {\n",
              "        vertical-align: middle;\n",
              "    }\n",
              "\n",
              "    .dataframe tbody tr th {\n",
              "        vertical-align: top;\n",
              "    }\n",
              "\n",
              "    .dataframe thead th {\n",
              "        text-align: right;\n",
              "    }\n",
              "</style>\n",
              "<table border=\"1\" class=\"dataframe\">\n",
              "  <thead>\n",
              "    <tr style=\"text-align: right;\">\n",
              "      <th></th>\n",
              "      <th>ID</th>\n",
              "      <th>target</th>\n",
              "    </tr>\n",
              "  </thead>\n",
              "  <tbody>\n",
              "    <tr>\n",
              "      <th>68654</th>\n",
              "      <td>ID_269404226088267278</td>\n",
              "      <td>0</td>\n",
              "    </tr>\n",
              "    <tr>\n",
              "      <th>68655</th>\n",
              "      <td>ID_255356300042267278</td>\n",
              "      <td>0</td>\n",
              "    </tr>\n",
              "    <tr>\n",
              "      <th>68656</th>\n",
              "      <td>ID_257026243764267278</td>\n",
              "      <td>0</td>\n",
              "    </tr>\n",
              "    <tr>\n",
              "      <th>68657</th>\n",
              "      <td>ID_264617299409267278</td>\n",
              "      <td>0</td>\n",
              "    </tr>\n",
              "    <tr>\n",
              "      <th>68658</th>\n",
              "      <td>ID_247613296713267278</td>\n",
              "      <td>0</td>\n",
              "    </tr>\n",
              "  </tbody>\n",
              "</table>\n",
              "</div>"
            ],
            "text/plain": [
              "                          ID  target\n",
              "68654  ID_269404226088267278       0\n",
              "68655  ID_255356300042267278       0\n",
              "68656  ID_257026243764267278       0\n",
              "68657  ID_264617299409267278       0\n",
              "68658  ID_247613296713267278       0"
            ]
          },
          "execution_count": 86,
          "metadata": {},
          "output_type": "execute_result"
        }
      ],
      "source": [
        "# Make predictions on the test dataset\n",
        "test_predictions = clf.predict(test_df[features_for_modelling])\n",
        "test_predictions_proba = clf.predict_proba(test_df[features_for_modelling])[:, 1]\n",
        "\n",
        "# Save the predictions to a CSV file\n",
        "\n",
        "test_df['target'] = test_predictions\n",
        "sub =  test_df[['ID', 'target']]\n",
        "sub.head()\n"
      ]
    },
    {
      "cell_type": "code",
      "execution_count": null,
      "metadata": {
        "id": "L-0bfscp9yED"
      },
      "outputs": [],
      "source": [
        "sub.to_csv('baseline_submission.csv', index=False)"
      ]
    },
    {
      "cell_type": "code",
      "execution_count": null,
      "metadata": {
        "id": "yhguEHw9cXdc"
      },
      "outputs": [],
      "source": []
    },
    {
      "cell_type": "markdown",
      "metadata": {
        "id": "PBvU51459yEE"
      },
      "source": [
        "#### To Do\n",
        "* Handle imbalance\n",
        "* Do more feature engineering\n",
        "* Use more sophisticated machine learning algorithms\n",
        "##### Good luck"
      ]
    },
    {
      "cell_type": "markdown",
      "metadata": {
        "id": "JBJo01jJ9yEG"
      },
      "source": [
        "train['target].value_counts()"
      ]
    }
  ],
  "metadata": {
    "colab": {
      "provenance": []
    },
    "kernelspec": {
      "display_name": "learn-env",
      "language": "python",
      "name": "python3"
    },
    "language_info": {
      "codemirror_mode": {
        "name": "ipython",
        "version": 3
      },
      "file_extension": ".py",
      "mimetype": "text/x-python",
      "name": "python",
      "nbconvert_exporter": "python",
      "pygments_lexer": "ipython3",
      "version": "3.8.5"
    }
  },
  "nbformat": 4,
  "nbformat_minor": 0
}
